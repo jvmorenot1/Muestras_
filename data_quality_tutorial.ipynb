{
  "cells": [
    {
      "cell_type": "markdown",
      "metadata": {
        "id": "NLHmQ5b_hMww"
      },
      "source": [
        "<a href=\"https://colab.research.google.com/github/datascience-uniandes/data-quality-tutorial/blob/master/data-quality-tutorial.ipynb\" target=\"_parent\"><img src=\"https://colab.research.google.com/assets/colab-badge.svg\" alt=\"Open In Colab\"/></a>"
      ]
    },
    {
      "cell_type": "markdown",
      "metadata": {
        "id": "2-IgAur2hMwx"
      },
      "source": [
        "# Data Quality and Cleanliness\n",
        "\n",
        "MINE-4101: Applied Data Science  \n",
        "Univerisdad de los Andes  \n",
        "  \n",
        "**Dataset:** Homicides Colombia ([datos.gov.co](datos.gov.co))\n",
        "  \n",
        "Last update: September, 2023"
      ]
    },
    {
      "cell_type": "code",
      "execution_count": null,
      "metadata": {
        "id": "xDb1HT7chMwz",
        "outputId": "50f0be41-ff0d-40b6-de8f-fd0497cfca7b"
      },
      "outputs": [
        {
          "name": "stdout",
          "output_type": "stream",
          "text": [
            "Collecting pylev\n",
            "  Downloading pylev-1.4.0-py2.py3-none-any.whl (6.1 kB)\n",
            "Installing collected packages: pylev\n",
            "Successfully installed pylev-1.4.0\n"
          ]
        }
      ],
      "source": [
        "!pip install pylev"
      ]
    },
    {
      "cell_type": "code",
      "execution_count": null,
      "metadata": {
        "id": "HaaX1dzyhMw0"
      },
      "outputs": [],
      "source": [
        "import re\n",
        "from random import randint\n",
        "from datetime import datetime\n",
        "from difflib import SequenceMatcher\n",
        "\n",
        "import numpy as np\n",
        "import pandas as pd\n",
        "\n",
        "import pylev"
      ]
    },
    {
      "cell_type": "code",
      "execution_count": null,
      "metadata": {
        "id": "TftvXFOPhMw1"
      },
      "outputs": [],
      "source": [
        "pd.set_option(\"display.max_columns\", None)"
      ]
    },
    {
      "cell_type": "markdown",
      "metadata": {
        "id": "MC28VTU4hMw2"
      },
      "source": [
        "## 1. Loading the data"
      ]
    },
    {
      "cell_type": "code",
      "execution_count": null,
      "metadata": {
        "id": "FTRkrKL7hMw3"
      },
      "outputs": [],
      "source": [
        "homicides_df = pd.read_csv(\"./data/homicides.csv\")"
      ]
    },
    {
      "cell_type": "code",
      "execution_count": null,
      "metadata": {
        "id": "4P9nhbWUhMw3",
        "outputId": "57d9974f-d1c1-468c-95af-684b7391df11"
      },
      "outputs": [
        {
          "data": {
            "text/plain": [
              "(12400, 22)"
            ]
          },
          "execution_count": 5,
          "metadata": {},
          "output_type": "execute_result"
        }
      ],
      "source": [
        "homicides_df.shape"
      ]
    },
    {
      "cell_type": "code",
      "execution_count": null,
      "metadata": {
        "id": "o587jVLqhMw4",
        "outputId": "fa49bc27-4c64-46f4-d2b1-c69a1e618a1d"
      },
      "outputs": [
        {
          "data": {
            "text/plain": [
              "FECHA                 object\n",
              "DEPARTAMENTO          object\n",
              "MUNICIPIO             object\n",
              "DIA                   object\n",
              "HORA                  object\n",
              "BARRIO                object\n",
              "ZONA                  object\n",
              "CLASE DE SITIO        object\n",
              "ARMA O MEDIO          object\n",
              "MOVIL VICTIMA         object\n",
              "MOVIL AGRESOR         object\n",
              "EDAD                 float64\n",
              "GENERO                object\n",
              "ESTADO CIVIL          object\n",
              "CLASE EMPLEADO        object\n",
              "PROFESION             object\n",
              "ESCOLARIDAD           object\n",
              "PAIS NACE             object\n",
              "CODIGO DANE          float64\n",
              "AÑO DE NACIMIENTO    float64\n",
              "CÉDULA                object\n",
              "CORREO                object\n",
              "dtype: object"
            ]
          },
          "execution_count": 6,
          "metadata": {},
          "output_type": "execute_result"
        }
      ],
      "source": [
        "homicides_df.dtypes"
      ]
    },
    {
      "cell_type": "code",
      "execution_count": null,
      "metadata": {
        "id": "dfuiiCkahMw5",
        "outputId": "387b71c3-0b7e-464c-9c74-d5d9c2bd5edf"
      },
      "outputs": [
        {
          "data": {
            "text/html": [
              "<div>\n",
              "<style scoped>\n",
              "    .dataframe tbody tr th:only-of-type {\n",
              "        vertical-align: middle;\n",
              "    }\n",
              "\n",
              "    .dataframe tbody tr th {\n",
              "        vertical-align: top;\n",
              "    }\n",
              "\n",
              "    .dataframe thead th {\n",
              "        text-align: right;\n",
              "    }\n",
              "</style>\n",
              "<table border=\"1\" class=\"dataframe\">\n",
              "  <thead>\n",
              "    <tr style=\"text-align: right;\">\n",
              "      <th></th>\n",
              "      <th>FECHA</th>\n",
              "      <th>DEPARTAMENTO</th>\n",
              "      <th>MUNICIPIO</th>\n",
              "      <th>DIA</th>\n",
              "      <th>HORA</th>\n",
              "      <th>BARRIO</th>\n",
              "      <th>ZONA</th>\n",
              "      <th>CLASE DE SITIO</th>\n",
              "      <th>ARMA O MEDIO</th>\n",
              "      <th>MOVIL VICTIMA</th>\n",
              "      <th>MOVIL AGRESOR</th>\n",
              "      <th>EDAD</th>\n",
              "      <th>GENERO</th>\n",
              "      <th>ESTADO CIVIL</th>\n",
              "      <th>CLASE EMPLEADO</th>\n",
              "      <th>PROFESION</th>\n",
              "      <th>ESCOLARIDAD</th>\n",
              "      <th>PAIS NACE</th>\n",
              "      <th>CODIGO DANE</th>\n",
              "      <th>AÑO DE NACIMIENTO</th>\n",
              "      <th>CÉDULA</th>\n",
              "      <th>CORREO</th>\n",
              "    </tr>\n",
              "  </thead>\n",
              "  <tbody>\n",
              "    <tr>\n",
              "      <th>9387</th>\n",
              "      <td>10/08/2021 12:00:00 AM</td>\n",
              "      <td>ANTIOQUIA</td>\n",
              "      <td>URRAO</td>\n",
              "      <td>Jueves</td>\n",
              "      <td>19:05</td>\n",
              "      <td>LA GUAYABALA</td>\n",
              "      <td>RURAL</td>\n",
              "      <td>FINCAS Y SIMILARES</td>\n",
              "      <td>ARMA DE FUEGO</td>\n",
              "      <td>A PIE</td>\n",
              "      <td>A PIE</td>\n",
              "      <td>20.0</td>\n",
              "      <td>MASCULINO</td>\n",
              "      <td>SOLTERO</td>\n",
              "      <td>DESEMPLEADO</td>\n",
              "      <td>NO REPORTADO</td>\n",
              "      <td>SECUNDARIA</td>\n",
              "      <td>COLOMBIA</td>\n",
              "      <td>5847000.0</td>\n",
              "      <td>1995.0</td>\n",
              "      <td>78-485</td>\n",
              "      <td>bitipn8237@gmail.com</td>\n",
              "    </tr>\n",
              "    <tr>\n",
              "      <th>5585</th>\n",
              "      <td>06/15/2021 12:00:00 AM</td>\n",
              "      <td>RISARALDA</td>\n",
              "      <td>PEREIRA (CT)</td>\n",
              "      <td>Lunes</td>\n",
              "      <td>21:20</td>\n",
              "      <td>GUAYACANES COM. SAN JOAQUIN</td>\n",
              "      <td>URBANA</td>\n",
              "      <td>VIAS PUBLICAS</td>\n",
              "      <td>ARMA DE FUEGO</td>\n",
              "      <td>A PIE</td>\n",
              "      <td>A PIE</td>\n",
              "      <td>21.0</td>\n",
              "      <td>MASCULINO</td>\n",
              "      <td>UNION LIBRE</td>\n",
              "      <td>DESEMPLEADO</td>\n",
              "      <td>NO REPORTADO</td>\n",
              "      <td>SECUNDARIA</td>\n",
              "      <td>COLOMBIA</td>\n",
              "      <td>66001000.0</td>\n",
              "      <td>1994.0</td>\n",
              "      <td>50-997</td>\n",
              "      <td>dmfgbl1450@gmail.com</td>\n",
              "    </tr>\n",
              "    <tr>\n",
              "      <th>7980</th>\n",
              "      <td>08/26/2021 12:00:00 AM</td>\n",
              "      <td>ANTIOQUIA</td>\n",
              "      <td>CALDAS</td>\n",
              "      <td>Mirrcoles</td>\n",
              "      <td>15:24</td>\n",
              "      <td>VIA ANGELOPOLIS</td>\n",
              "      <td>RURAL</td>\n",
              "      <td>VIAS PUBLICAS</td>\n",
              "      <td>ARMA DE FUEGO</td>\n",
              "      <td>A PIE</td>\n",
              "      <td>A PIE</td>\n",
              "      <td>30.0</td>\n",
              "      <td>MASCULINO</td>\n",
              "      <td>SOLTERO</td>\n",
              "      <td>DESEMPLEADO</td>\n",
              "      <td>NO REPORTADO</td>\n",
              "      <td>ANALFABETA</td>\n",
              "      <td>COLOMBIA</td>\n",
              "      <td>5129000.0</td>\n",
              "      <td>1985.0</td>\n",
              "      <td>53-477</td>\n",
              "      <td>djaqib5001@gmail.com</td>\n",
              "    </tr>\n",
              "    <tr>\n",
              "      <th>9667</th>\n",
              "      <td>10/17/2021 12:00:00 AM</td>\n",
              "      <td>VALLE</td>\n",
              "      <td>CALI (CT)</td>\n",
              "      <td>Sábado</td>\n",
              "      <td>20:35</td>\n",
              "      <td>ALFONSO B. ARAGON E14</td>\n",
              "      <td>URBANA</td>\n",
              "      <td>VIAS PUBLICAS</td>\n",
              "      <td>ARMA DE FUEGO</td>\n",
              "      <td>A PIE</td>\n",
              "      <td>A PIE</td>\n",
              "      <td>20.0</td>\n",
              "      <td>MASCULINO</td>\n",
              "      <td>SOLTERO</td>\n",
              "      <td>DESEMPLEADO</td>\n",
              "      <td>NO REPORTADO</td>\n",
              "      <td>SECUNDARIA</td>\n",
              "      <td>COLOMBIA</td>\n",
              "      <td>76001000.0</td>\n",
              "      <td>1995.0</td>\n",
              "      <td>50-664</td>\n",
              "      <td>ffbhef2243@gmail.com</td>\n",
              "    </tr>\n",
              "    <tr>\n",
              "      <th>6280</th>\n",
              "      <td>07/05/2021 12:00:00 AM</td>\n",
              "      <td>ATLÁNTICO</td>\n",
              "      <td>BARRANQUILLA (CT)</td>\n",
              "      <td>Domingo</td>\n",
              "      <td>22:30</td>\n",
              "      <td>LOS OLIVOS I</td>\n",
              "      <td>URBANA</td>\n",
              "      <td>VIAS PUBLICAS</td>\n",
              "      <td>ARMA DE FUEGO</td>\n",
              "      <td>A PIE</td>\n",
              "      <td>PASAJERO MOTOCICLETA</td>\n",
              "      <td>28.0</td>\n",
              "      <td>MASCULINO</td>\n",
              "      <td>UNION LIBRE</td>\n",
              "      <td>DESEMPLEADO</td>\n",
              "      <td>NO REPORTADO</td>\n",
              "      <td>PRIMARIA</td>\n",
              "      <td>COLOMBIA</td>\n",
              "      <td>8001000.0</td>\n",
              "      <td>1987.0</td>\n",
              "      <td>93-259</td>\n",
              "      <td>correo967@unidatos.edu.co</td>\n",
              "    </tr>\n",
              "  </tbody>\n",
              "</table>\n",
              "</div>"
            ],
            "text/plain": [
              "                       FECHA DEPARTAMENTO          MUNICIPIO        DIA  \\\n",
              "9387  10/08/2021 12:00:00 AM    ANTIOQUIA              URRAO     Jueves   \n",
              "5585  06/15/2021 12:00:00 AM    RISARALDA       PEREIRA (CT)      Lunes   \n",
              "7980  08/26/2021 12:00:00 AM    ANTIOQUIA             CALDAS  Mirrcoles   \n",
              "9667  10/17/2021 12:00:00 AM        VALLE          CALI (CT)     Sábado   \n",
              "6280  07/05/2021 12:00:00 AM    ATLÁNTICO  BARRANQUILLA (CT)    Domingo   \n",
              "\n",
              "       HORA                       BARRIO    ZONA      CLASE DE SITIO  \\\n",
              "9387  19:05                 LA GUAYABALA   RURAL  FINCAS Y SIMILARES   \n",
              "5585  21:20  GUAYACANES COM. SAN JOAQUIN  URBANA       VIAS PUBLICAS   \n",
              "7980  15:24              VIA ANGELOPOLIS   RURAL       VIAS PUBLICAS   \n",
              "9667  20:35        ALFONSO B. ARAGON E14  URBANA       VIAS PUBLICAS   \n",
              "6280  22:30                 LOS OLIVOS I  URBANA       VIAS PUBLICAS   \n",
              "\n",
              "       ARMA O MEDIO MOVIL VICTIMA         MOVIL AGRESOR  EDAD     GENERO  \\\n",
              "9387  ARMA DE FUEGO         A PIE                 A PIE  20.0  MASCULINO   \n",
              "5585  ARMA DE FUEGO         A PIE                 A PIE  21.0  MASCULINO   \n",
              "7980  ARMA DE FUEGO         A PIE                 A PIE  30.0  MASCULINO   \n",
              "9667  ARMA DE FUEGO         A PIE                 A PIE  20.0  MASCULINO   \n",
              "6280  ARMA DE FUEGO         A PIE  PASAJERO MOTOCICLETA  28.0  MASCULINO   \n",
              "\n",
              "     ESTADO CIVIL CLASE EMPLEADO     PROFESION ESCOLARIDAD PAIS NACE  \\\n",
              "9387      SOLTERO    DESEMPLEADO  NO REPORTADO  SECUNDARIA  COLOMBIA   \n",
              "5585  UNION LIBRE    DESEMPLEADO  NO REPORTADO  SECUNDARIA  COLOMBIA   \n",
              "7980      SOLTERO    DESEMPLEADO  NO REPORTADO  ANALFABETA  COLOMBIA   \n",
              "9667      SOLTERO    DESEMPLEADO  NO REPORTADO  SECUNDARIA  COLOMBIA   \n",
              "6280  UNION LIBRE    DESEMPLEADO  NO REPORTADO    PRIMARIA  COLOMBIA   \n",
              "\n",
              "      CODIGO DANE  AÑO DE NACIMIENTO  CÉDULA                     CORREO  \n",
              "9387    5847000.0             1995.0  78-485       bitipn8237@gmail.com  \n",
              "5585   66001000.0             1994.0  50-997       dmfgbl1450@gmail.com  \n",
              "7980    5129000.0             1985.0  53-477       djaqib5001@gmail.com  \n",
              "9667   76001000.0             1995.0  50-664       ffbhef2243@gmail.com  \n",
              "6280    8001000.0             1987.0  93-259  correo967@unidatos.edu.co  "
            ]
          },
          "execution_count": 7,
          "metadata": {},
          "output_type": "execute_result"
        }
      ],
      "source": [
        "homicides_df.sample(5)"
      ]
    },
    {
      "cell_type": "markdown",
      "metadata": {
        "id": "tmQpZUlWhMw6"
      },
      "source": [
        "## 2. Working with datetimes"
      ]
    },
    {
      "cell_type": "code",
      "execution_count": null,
      "metadata": {
        "id": "6xl84z0fhMw6"
      },
      "outputs": [],
      "source": [
        "# Creating a lambda expression for datetime parsing\n",
        "dateparse = lambda x: datetime.strptime(x, \"%m/%d/%Y %H:%M:%S %p\")"
      ]
    },
    {
      "cell_type": "code",
      "execution_count": null,
      "metadata": {
        "id": "r1FmGFbrhMw6",
        "outputId": "8f21527a-a2eb-4961-e878-af93d0eb9e68"
      },
      "outputs": [
        {
          "ename": "ValueError",
          "evalue": "time data '13/12/2021 12:00:00 AM' does not match format '%m/%d/%Y %H:%M:%S %p'",
          "output_type": "error",
          "traceback": [
            "\u001b[0;31m---------------------------------------------------------------------------\u001b[0m",
            "\u001b[0;31mValueError\u001b[0m                                Traceback (most recent call last)",
            "Cell \u001b[0;32mIn[9], line 2\u001b[0m\n\u001b[1;32m      1\u001b[0m \u001b[38;5;66;03m# Applying the validation to all values in the column\u001b[39;00m\n\u001b[0;32m----> 2\u001b[0m \u001b[43mhomicides_df\u001b[49m\u001b[43m[\u001b[49m\u001b[38;5;124;43m\"\u001b[39;49m\u001b[38;5;124;43mFECHA\u001b[39;49m\u001b[38;5;124;43m\"\u001b[39;49m\u001b[43m]\u001b[49m\u001b[38;5;241;43m.\u001b[39;49m\u001b[43mapply\u001b[49m\u001b[43m(\u001b[49m\u001b[43mdateparse\u001b[49m\u001b[43m)\u001b[49m\n\u001b[1;32m      4\u001b[0m \u001b[38;5;66;03m# IT IS EXPECTED TO HAVE AN ERROR BECAUSE SOME VALUES DOESN'T FIT THE FORMAT\u001b[39;00m\n",
            "File \u001b[0;32m~/miniconda/lib/python3.9/site-packages/pandas/core/series.py:4771\u001b[0m, in \u001b[0;36mSeries.apply\u001b[0;34m(self, func, convert_dtype, args, **kwargs)\u001b[0m\n\u001b[1;32m   4661\u001b[0m \u001b[38;5;28;01mdef\u001b[39;00m \u001b[38;5;21mapply\u001b[39m(\n\u001b[1;32m   4662\u001b[0m     \u001b[38;5;28mself\u001b[39m,\n\u001b[1;32m   4663\u001b[0m     func: AggFuncType,\n\u001b[0;32m   (...)\u001b[0m\n\u001b[1;32m   4666\u001b[0m     \u001b[38;5;241m*\u001b[39m\u001b[38;5;241m*\u001b[39mkwargs,\n\u001b[1;32m   4667\u001b[0m ) \u001b[38;5;241m-\u001b[39m\u001b[38;5;241m>\u001b[39m DataFrame \u001b[38;5;241m|\u001b[39m Series:\n\u001b[1;32m   4668\u001b[0m     \u001b[38;5;124;03m\"\"\"\u001b[39;00m\n\u001b[1;32m   4669\u001b[0m \u001b[38;5;124;03m    Invoke function on values of Series.\u001b[39;00m\n\u001b[1;32m   4670\u001b[0m \n\u001b[0;32m   (...)\u001b[0m\n\u001b[1;32m   4769\u001b[0m \u001b[38;5;124;03m    dtype: float64\u001b[39;00m\n\u001b[1;32m   4770\u001b[0m \u001b[38;5;124;03m    \"\"\"\u001b[39;00m\n\u001b[0;32m-> 4771\u001b[0m     \u001b[38;5;28;01mreturn\u001b[39;00m \u001b[43mSeriesApply\u001b[49m\u001b[43m(\u001b[49m\u001b[38;5;28;43mself\u001b[39;49m\u001b[43m,\u001b[49m\u001b[43m \u001b[49m\u001b[43mfunc\u001b[49m\u001b[43m,\u001b[49m\u001b[43m \u001b[49m\u001b[43mconvert_dtype\u001b[49m\u001b[43m,\u001b[49m\u001b[43m \u001b[49m\u001b[43margs\u001b[49m\u001b[43m,\u001b[49m\u001b[43m \u001b[49m\u001b[43mkwargs\u001b[49m\u001b[43m)\u001b[49m\u001b[38;5;241;43m.\u001b[39;49m\u001b[43mapply\u001b[49m\u001b[43m(\u001b[49m\u001b[43m)\u001b[49m\n",
            "File \u001b[0;32m~/miniconda/lib/python3.9/site-packages/pandas/core/apply.py:1105\u001b[0m, in \u001b[0;36mSeriesApply.apply\u001b[0;34m(self)\u001b[0m\n\u001b[1;32m   1102\u001b[0m     \u001b[38;5;28;01mreturn\u001b[39;00m \u001b[38;5;28mself\u001b[39m\u001b[38;5;241m.\u001b[39mapply_str()\n\u001b[1;32m   1104\u001b[0m \u001b[38;5;66;03m# self.f is Callable\u001b[39;00m\n\u001b[0;32m-> 1105\u001b[0m \u001b[38;5;28;01mreturn\u001b[39;00m \u001b[38;5;28;43mself\u001b[39;49m\u001b[38;5;241;43m.\u001b[39;49m\u001b[43mapply_standard\u001b[49m\u001b[43m(\u001b[49m\u001b[43m)\u001b[49m\n",
            "File \u001b[0;32m~/miniconda/lib/python3.9/site-packages/pandas/core/apply.py:1156\u001b[0m, in \u001b[0;36mSeriesApply.apply_standard\u001b[0;34m(self)\u001b[0m\n\u001b[1;32m   1154\u001b[0m     \u001b[38;5;28;01melse\u001b[39;00m:\n\u001b[1;32m   1155\u001b[0m         values \u001b[38;5;241m=\u001b[39m obj\u001b[38;5;241m.\u001b[39mastype(\u001b[38;5;28mobject\u001b[39m)\u001b[38;5;241m.\u001b[39m_values\n\u001b[0;32m-> 1156\u001b[0m         mapped \u001b[38;5;241m=\u001b[39m \u001b[43mlib\u001b[49m\u001b[38;5;241;43m.\u001b[39;49m\u001b[43mmap_infer\u001b[49m\u001b[43m(\u001b[49m\n\u001b[1;32m   1157\u001b[0m \u001b[43m            \u001b[49m\u001b[43mvalues\u001b[49m\u001b[43m,\u001b[49m\n\u001b[1;32m   1158\u001b[0m \u001b[43m            \u001b[49m\u001b[43mf\u001b[49m\u001b[43m,\u001b[49m\n\u001b[1;32m   1159\u001b[0m \u001b[43m            \u001b[49m\u001b[43mconvert\u001b[49m\u001b[38;5;241;43m=\u001b[39;49m\u001b[38;5;28;43mself\u001b[39;49m\u001b[38;5;241;43m.\u001b[39;49m\u001b[43mconvert_dtype\u001b[49m\u001b[43m,\u001b[49m\n\u001b[1;32m   1160\u001b[0m \u001b[43m        \u001b[49m\u001b[43m)\u001b[49m\n\u001b[1;32m   1162\u001b[0m \u001b[38;5;28;01mif\u001b[39;00m \u001b[38;5;28mlen\u001b[39m(mapped) \u001b[38;5;129;01mand\u001b[39;00m \u001b[38;5;28misinstance\u001b[39m(mapped[\u001b[38;5;241m0\u001b[39m], ABCSeries):\n\u001b[1;32m   1163\u001b[0m     \u001b[38;5;66;03m# GH#43986 Need to do list(mapped) in order to get treated as nested\u001b[39;00m\n\u001b[1;32m   1164\u001b[0m     \u001b[38;5;66;03m#  See also GH#25959 regarding EA support\u001b[39;00m\n\u001b[1;32m   1165\u001b[0m     \u001b[38;5;28;01mreturn\u001b[39;00m obj\u001b[38;5;241m.\u001b[39m_constructor_expanddim(\u001b[38;5;28mlist\u001b[39m(mapped), index\u001b[38;5;241m=\u001b[39mobj\u001b[38;5;241m.\u001b[39mindex)\n",
            "File \u001b[0;32m~/miniconda/lib/python3.9/site-packages/pandas/_libs/lib.pyx:2918\u001b[0m, in \u001b[0;36mpandas._libs.lib.map_infer\u001b[0;34m()\u001b[0m\n",
            "Cell \u001b[0;32mIn[8], line 2\u001b[0m, in \u001b[0;36m<lambda>\u001b[0;34m(x)\u001b[0m\n\u001b[1;32m      1\u001b[0m \u001b[38;5;66;03m# Creating a lambda expression for datetime parsing\u001b[39;00m\n\u001b[0;32m----> 2\u001b[0m dateparse \u001b[38;5;241m=\u001b[39m \u001b[38;5;28;01mlambda\u001b[39;00m x: \u001b[43mdatetime\u001b[49m\u001b[38;5;241;43m.\u001b[39;49m\u001b[43mstrptime\u001b[49m\u001b[43m(\u001b[49m\u001b[43mx\u001b[49m\u001b[43m,\u001b[49m\u001b[43m \u001b[49m\u001b[38;5;124;43m\"\u001b[39;49m\u001b[38;5;124;43m%\u001b[39;49m\u001b[38;5;124;43mm/\u001b[39;49m\u001b[38;5;132;43;01m%d\u001b[39;49;00m\u001b[38;5;124;43m/\u001b[39;49m\u001b[38;5;124;43m%\u001b[39;49m\u001b[38;5;124;43mY \u001b[39;49m\u001b[38;5;124;43m%\u001b[39;49m\u001b[38;5;124;43mH:\u001b[39;49m\u001b[38;5;124;43m%\u001b[39;49m\u001b[38;5;124;43mM:\u001b[39;49m\u001b[38;5;124;43m%\u001b[39;49m\u001b[38;5;124;43mS \u001b[39;49m\u001b[38;5;124;43m%\u001b[39;49m\u001b[38;5;124;43mp\u001b[39;49m\u001b[38;5;124;43m\"\u001b[39;49m\u001b[43m)\u001b[49m\n",
            "File \u001b[0;32m~/miniconda/lib/python3.9/_strptime.py:568\u001b[0m, in \u001b[0;36m_strptime_datetime\u001b[0;34m(cls, data_string, format)\u001b[0m\n\u001b[1;32m    565\u001b[0m \u001b[38;5;28;01mdef\u001b[39;00m \u001b[38;5;21m_strptime_datetime\u001b[39m(\u001b[38;5;28mcls\u001b[39m, data_string, \u001b[38;5;28mformat\u001b[39m\u001b[38;5;241m=\u001b[39m\u001b[38;5;124m\"\u001b[39m\u001b[38;5;132;01m%a\u001b[39;00m\u001b[38;5;124m \u001b[39m\u001b[38;5;124m%\u001b[39m\u001b[38;5;124mb \u001b[39m\u001b[38;5;132;01m%d\u001b[39;00m\u001b[38;5;124m \u001b[39m\u001b[38;5;124m%\u001b[39m\u001b[38;5;124mH:\u001b[39m\u001b[38;5;124m%\u001b[39m\u001b[38;5;124mM:\u001b[39m\u001b[38;5;124m%\u001b[39m\u001b[38;5;124mS \u001b[39m\u001b[38;5;124m%\u001b[39m\u001b[38;5;124mY\u001b[39m\u001b[38;5;124m\"\u001b[39m):\n\u001b[1;32m    566\u001b[0m     \u001b[38;5;124;03m\"\"\"Return a class cls instance based on the input string and the\u001b[39;00m\n\u001b[1;32m    567\u001b[0m \u001b[38;5;124;03m    format string.\"\"\"\u001b[39;00m\n\u001b[0;32m--> 568\u001b[0m     tt, fraction, gmtoff_fraction \u001b[38;5;241m=\u001b[39m \u001b[43m_strptime\u001b[49m\u001b[43m(\u001b[49m\u001b[43mdata_string\u001b[49m\u001b[43m,\u001b[49m\u001b[43m \u001b[49m\u001b[38;5;28;43mformat\u001b[39;49m\u001b[43m)\u001b[49m\n\u001b[1;32m    569\u001b[0m     tzname, gmtoff \u001b[38;5;241m=\u001b[39m tt[\u001b[38;5;241m-\u001b[39m\u001b[38;5;241m2\u001b[39m:]\n\u001b[1;32m    570\u001b[0m     args \u001b[38;5;241m=\u001b[39m tt[:\u001b[38;5;241m6\u001b[39m] \u001b[38;5;241m+\u001b[39m (fraction,)\n",
            "File \u001b[0;32m~/miniconda/lib/python3.9/_strptime.py:349\u001b[0m, in \u001b[0;36m_strptime\u001b[0;34m(data_string, format)\u001b[0m\n\u001b[1;32m    347\u001b[0m found \u001b[38;5;241m=\u001b[39m format_regex\u001b[38;5;241m.\u001b[39mmatch(data_string)\n\u001b[1;32m    348\u001b[0m \u001b[38;5;28;01mif\u001b[39;00m \u001b[38;5;129;01mnot\u001b[39;00m found:\n\u001b[0;32m--> 349\u001b[0m     \u001b[38;5;28;01mraise\u001b[39;00m \u001b[38;5;167;01mValueError\u001b[39;00m(\u001b[38;5;124m\"\u001b[39m\u001b[38;5;124mtime data \u001b[39m\u001b[38;5;132;01m%r\u001b[39;00m\u001b[38;5;124m does not match format \u001b[39m\u001b[38;5;132;01m%r\u001b[39;00m\u001b[38;5;124m\"\u001b[39m \u001b[38;5;241m%\u001b[39m\n\u001b[1;32m    350\u001b[0m                      (data_string, \u001b[38;5;28mformat\u001b[39m))\n\u001b[1;32m    351\u001b[0m \u001b[38;5;28;01mif\u001b[39;00m \u001b[38;5;28mlen\u001b[39m(data_string) \u001b[38;5;241m!=\u001b[39m found\u001b[38;5;241m.\u001b[39mend():\n\u001b[1;32m    352\u001b[0m     \u001b[38;5;28;01mraise\u001b[39;00m \u001b[38;5;167;01mValueError\u001b[39;00m(\u001b[38;5;124m\"\u001b[39m\u001b[38;5;124munconverted data remains: \u001b[39m\u001b[38;5;132;01m%s\u001b[39;00m\u001b[38;5;124m\"\u001b[39m \u001b[38;5;241m%\u001b[39m\n\u001b[1;32m    353\u001b[0m                       data_string[found\u001b[38;5;241m.\u001b[39mend():])\n",
            "\u001b[0;31mValueError\u001b[0m: time data '13/12/2021 12:00:00 AM' does not match format '%m/%d/%Y %H:%M:%S %p'"
          ]
        }
      ],
      "source": [
        "# Applying the validation to all values in the column\n",
        "homicides_df[\"FECHA\"].apply(dateparse)\n",
        "\n",
        "# IT IS EXPECTED TO HAVE AN ERROR BECAUSE SOME VALUES DOESN'T FIT THE FORMAT"
      ]
    },
    {
      "cell_type": "code",
      "execution_count": null,
      "metadata": {
        "id": "wyYb2W-fhMw7"
      },
      "outputs": [],
      "source": [
        "# Creating a function for validating which value is causing the previous error\n",
        "def error_in_format(x):\n",
        "    try:\n",
        "        datetime.strptime(x, \"%m/%d/%Y %H:%M:%S %p\")\n",
        "        return False\n",
        "    except:\n",
        "        return True"
      ]
    },
    {
      "cell_type": "code",
      "execution_count": null,
      "metadata": {
        "id": "VfIRhYQNhMw7",
        "outputId": "e8138f50-0a01-45cc-f4d7-7461d7dc34d8"
      },
      "outputs": [
        {
          "data": {
            "text/html": [
              "<div>\n",
              "<style scoped>\n",
              "    .dataframe tbody tr th:only-of-type {\n",
              "        vertical-align: middle;\n",
              "    }\n",
              "\n",
              "    .dataframe tbody tr th {\n",
              "        vertical-align: top;\n",
              "    }\n",
              "\n",
              "    .dataframe thead th {\n",
              "        text-align: right;\n",
              "    }\n",
              "</style>\n",
              "<table border=\"1\" class=\"dataframe\">\n",
              "  <thead>\n",
              "    <tr style=\"text-align: right;\">\n",
              "      <th></th>\n",
              "      <th>FECHA</th>\n",
              "      <th>DEPARTAMENTO</th>\n",
              "      <th>MUNICIPIO</th>\n",
              "      <th>DIA</th>\n",
              "      <th>HORA</th>\n",
              "      <th>BARRIO</th>\n",
              "      <th>ZONA</th>\n",
              "      <th>CLASE DE SITIO</th>\n",
              "      <th>ARMA O MEDIO</th>\n",
              "      <th>MOVIL VICTIMA</th>\n",
              "      <th>MOVIL AGRESOR</th>\n",
              "      <th>EDAD</th>\n",
              "      <th>GENERO</th>\n",
              "      <th>ESTADO CIVIL</th>\n",
              "      <th>CLASE EMPLEADO</th>\n",
              "      <th>PROFESION</th>\n",
              "      <th>ESCOLARIDAD</th>\n",
              "      <th>PAIS NACE</th>\n",
              "      <th>CODIGO DANE</th>\n",
              "      <th>AÑO DE NACIMIENTO</th>\n",
              "      <th>CÉDULA</th>\n",
              "      <th>CORREO</th>\n",
              "    </tr>\n",
              "  </thead>\n",
              "  <tbody>\n",
              "    <tr>\n",
              "      <th>486</th>\n",
              "      <td>13/12/2021 12:00:00 AM</td>\n",
              "      <td>VALLE</td>\n",
              "      <td>CALI (CT)</td>\n",
              "      <td>kunes</td>\n",
              "      <td>23:00</td>\n",
              "      <td>MOJICA E15</td>\n",
              "      <td>URBANA</td>\n",
              "      <td>VIAS PUBLICAS</td>\n",
              "      <td>ARMA DE FUEGO</td>\n",
              "      <td>A PIE</td>\n",
              "      <td>A PIE</td>\n",
              "      <td>26.0</td>\n",
              "      <td>MASCULINO</td>\n",
              "      <td>SOLTERO</td>\n",
              "      <td>INDEPENDIENTE</td>\n",
              "      <td>NO REPORTADO</td>\n",
              "      <td>SECUNDARIA</td>\n",
              "      <td>COLOMBIA</td>\n",
              "      <td>76001000.0</td>\n",
              "      <td>89.0</td>\n",
              "      <td>80-330</td>\n",
              "      <td>lujhdf9132@gmail.com</td>\n",
              "    </tr>\n",
              "    <tr>\n",
              "      <th>695</th>\n",
              "      <td>30/01/2021 12:00:00 AM</td>\n",
              "      <td>BOLÍVAR</td>\n",
              "      <td>CARTAGENA (CT)</td>\n",
              "      <td>Lunes</td>\n",
              "      <td>5:30</td>\n",
              "      <td>REP. DEL LIBANO</td>\n",
              "      <td>URBANA</td>\n",
              "      <td>VIAS PUBLICAS</td>\n",
              "      <td>ARMA BLANCA</td>\n",
              "      <td>NO REPORTADO</td>\n",
              "      <td>A PIE</td>\n",
              "      <td>25.0</td>\n",
              "      <td>MASCULINO</td>\n",
              "      <td>SOLTERO</td>\n",
              "      <td>EMPLEADO PARTICULAR</td>\n",
              "      <td>NO REPORTADO</td>\n",
              "      <td>SECUNDARIA</td>\n",
              "      <td>COLOMBIA</td>\n",
              "      <td>13001000.0</td>\n",
              "      <td>1990.0</td>\n",
              "      <td>12-915</td>\n",
              "      <td>ghumtg4094@unidatos.edu.co</td>\n",
              "    </tr>\n",
              "    <tr>\n",
              "      <th>1250</th>\n",
              "      <td>18/05/2021 12:00:00 AM</td>\n",
              "      <td>HUILA</td>\n",
              "      <td>TESALIA</td>\n",
              "      <td>Jueves</td>\n",
              "      <td>19:30</td>\n",
              "      <td>VEREDA PACARNI</td>\n",
              "      <td>RURAL</td>\n",
              "      <td>CASAS DE HABITACION</td>\n",
              "      <td>ARMA DE FUEGO</td>\n",
              "      <td>A PIE</td>\n",
              "      <td>A PIE</td>\n",
              "      <td>34.0</td>\n",
              "      <td>FEMENINO</td>\n",
              "      <td>SOLTERO</td>\n",
              "      <td>AGRICULTOR</td>\n",
              "      <td>NO REPORTADO</td>\n",
              "      <td>PRIMARIA</td>\n",
              "      <td>COLOMBIA</td>\n",
              "      <td>41797000.0</td>\n",
              "      <td>1981.0</td>\n",
              "      <td>99-095</td>\n",
              "      <td>sdaggf6639@gmail.com</td>\n",
              "    </tr>\n",
              "    <tr>\n",
              "      <th>12168</th>\n",
              "      <td>12/25/2021 12:00:00 MM</td>\n",
              "      <td>VALLE</td>\n",
              "      <td>PALMIRA</td>\n",
              "      <td>Viernes</td>\n",
              "      <td>15:30</td>\n",
              "      <td>LA EMILIA</td>\n",
              "      <td>URBANA</td>\n",
              "      <td>VIAS PUBLICAS</td>\n",
              "      <td>ARMA DE FUEGO</td>\n",
              "      <td>A PIE</td>\n",
              "      <td>CONDUCTOR MOTOCICLETA</td>\n",
              "      <td>17.0</td>\n",
              "      <td>MASCULINO</td>\n",
              "      <td>SOLTERO</td>\n",
              "      <td>EMPLEADO PARTICULAR</td>\n",
              "      <td>NO REPORTADO</td>\n",
              "      <td>SECUNDARIA</td>\n",
              "      <td>COLOMBIA</td>\n",
              "      <td>76520000.0</td>\n",
              "      <td>1998.0</td>\n",
              "      <td>16-362</td>\n",
              "      <td>uschca1775@gmail.com</td>\n",
              "    </tr>\n",
              "    <tr>\n",
              "      <th>12399</th>\n",
              "      <td>TOTAL</td>\n",
              "      <td>NaN</td>\n",
              "      <td>NaN</td>\n",
              "      <td>NaN</td>\n",
              "      <td>NaN</td>\n",
              "      <td>NaN</td>\n",
              "      <td>NaN</td>\n",
              "      <td>NaN</td>\n",
              "      <td>NaN</td>\n",
              "      <td>NaN</td>\n",
              "      <td>NaN</td>\n",
              "      <td>NaN</td>\n",
              "      <td>NaN</td>\n",
              "      <td>NaN</td>\n",
              "      <td>NaN</td>\n",
              "      <td>NaN</td>\n",
              "      <td>NaN</td>\n",
              "      <td>NaN</td>\n",
              "      <td>NaN</td>\n",
              "      <td>NaN</td>\n",
              "      <td>NaN</td>\n",
              "      <td>NaN</td>\n",
              "    </tr>\n",
              "  </tbody>\n",
              "</table>\n",
              "</div>"
            ],
            "text/plain": [
              "                        FECHA DEPARTAMENTO       MUNICIPIO      DIA   HORA  \\\n",
              "486    13/12/2021 12:00:00 AM        VALLE       CALI (CT)    kunes  23:00   \n",
              "695    30/01/2021 12:00:00 AM      BOLÍVAR  CARTAGENA (CT)    Lunes   5:30   \n",
              "1250   18/05/2021 12:00:00 AM        HUILA         TESALIA   Jueves  19:30   \n",
              "12168  12/25/2021 12:00:00 MM        VALLE         PALMIRA  Viernes  15:30   \n",
              "12399                   TOTAL          NaN             NaN      NaN    NaN   \n",
              "\n",
              "                BARRIO    ZONA       CLASE DE SITIO   ARMA O MEDIO  \\\n",
              "486         MOJICA E15  URBANA        VIAS PUBLICAS  ARMA DE FUEGO   \n",
              "695    REP. DEL LIBANO  URBANA        VIAS PUBLICAS    ARMA BLANCA   \n",
              "1250    VEREDA PACARNI   RURAL  CASAS DE HABITACION  ARMA DE FUEGO   \n",
              "12168        LA EMILIA  URBANA        VIAS PUBLICAS  ARMA DE FUEGO   \n",
              "12399              NaN     NaN                  NaN            NaN   \n",
              "\n",
              "      MOVIL VICTIMA          MOVIL AGRESOR  EDAD     GENERO ESTADO CIVIL  \\\n",
              "486           A PIE                  A PIE  26.0  MASCULINO      SOLTERO   \n",
              "695    NO REPORTADO                  A PIE  25.0  MASCULINO      SOLTERO   \n",
              "1250          A PIE                  A PIE  34.0   FEMENINO      SOLTERO   \n",
              "12168         A PIE  CONDUCTOR MOTOCICLETA  17.0  MASCULINO      SOLTERO   \n",
              "12399           NaN                    NaN   NaN        NaN          NaN   \n",
              "\n",
              "            CLASE EMPLEADO     PROFESION ESCOLARIDAD PAIS NACE  CODIGO DANE  \\\n",
              "486          INDEPENDIENTE  NO REPORTADO  SECUNDARIA  COLOMBIA   76001000.0   \n",
              "695    EMPLEADO PARTICULAR  NO REPORTADO  SECUNDARIA  COLOMBIA   13001000.0   \n",
              "1250            AGRICULTOR  NO REPORTADO    PRIMARIA  COLOMBIA   41797000.0   \n",
              "12168  EMPLEADO PARTICULAR  NO REPORTADO  SECUNDARIA  COLOMBIA   76520000.0   \n",
              "12399                  NaN           NaN         NaN       NaN          NaN   \n",
              "\n",
              "       AÑO DE NACIMIENTO  CÉDULA                      CORREO  \n",
              "486                 89.0  80-330        lujhdf9132@gmail.com  \n",
              "695               1990.0  12-915  ghumtg4094@unidatos.edu.co  \n",
              "1250              1981.0  99-095        sdaggf6639@gmail.com  \n",
              "12168             1998.0  16-362        uschca1775@gmail.com  \n",
              "12399                NaN     NaN                         NaN  "
            ]
          },
          "execution_count": 11,
          "metadata": {},
          "output_type": "execute_result"
        }
      ],
      "source": [
        "# Using the function for validation\n",
        "homicides_df.loc[homicides_df[\"FECHA\"].apply(error_in_format)]"
      ]
    },
    {
      "cell_type": "code",
      "execution_count": null,
      "metadata": {
        "id": "8oCVqQP6hMw7"
      },
      "outputs": [],
      "source": [
        "# Deleting a row by its index\n",
        "homicides_df.drop([486, 695, 1250, 12168, 12399], inplace=True)"
      ]
    },
    {
      "cell_type": "code",
      "execution_count": null,
      "metadata": {
        "id": "63b12WGohMw8"
      },
      "outputs": [],
      "source": [
        "# Trying to parse the datetime string again\n",
        "homicides_df[\"FECHA\"] = homicides_df[\"FECHA\"].apply(dateparse)"
      ]
    },
    {
      "cell_type": "code",
      "execution_count": null,
      "metadata": {
        "id": "J547z_jNhMw8",
        "outputId": "384b87dd-643a-4f6e-ce0d-aabe692d04f1"
      },
      "outputs": [
        {
          "data": {
            "text/plain": [
              "FECHA                datetime64[ns]\n",
              "DEPARTAMENTO                 object\n",
              "MUNICIPIO                    object\n",
              "DIA                          object\n",
              "HORA                         object\n",
              "BARRIO                       object\n",
              "ZONA                         object\n",
              "CLASE DE SITIO               object\n",
              "ARMA O MEDIO                 object\n",
              "MOVIL VICTIMA                object\n",
              "MOVIL AGRESOR                object\n",
              "EDAD                        float64\n",
              "GENERO                       object\n",
              "ESTADO CIVIL                 object\n",
              "CLASE EMPLEADO               object\n",
              "PROFESION                    object\n",
              "ESCOLARIDAD                  object\n",
              "PAIS NACE                    object\n",
              "CODIGO DANE                 float64\n",
              "AÑO DE NACIMIENTO           float64\n",
              "CÉDULA                       object\n",
              "CORREO                       object\n",
              "dtype: object"
            ]
          },
          "execution_count": 14,
          "metadata": {},
          "output_type": "execute_result"
        }
      ],
      "source": [
        "homicides_df.dtypes"
      ]
    },
    {
      "cell_type": "code",
      "execution_count": null,
      "metadata": {
        "id": "QSTiIBmjhMw8",
        "outputId": "a1efebf1-ba43-4b67-c8ed-05456d7552c6"
      },
      "outputs": [
        {
          "data": {
            "text/plain": [
              "12    12395\n",
              "Name: FECHA, dtype: int64"
            ]
          },
          "execution_count": 15,
          "metadata": {},
          "output_type": "execute_result"
        }
      ],
      "source": [
        "# Counting homicides by hour\n",
        "homicides_df[\"FECHA\"].dt.hour.value_counts()\n",
        "\n",
        "# All datetime hour parts are the same"
      ]
    },
    {
      "cell_type": "markdown",
      "metadata": {
        "id": "VWj938q4hMw9"
      },
      "source": [
        "*The homicide hour is available in a different column!*"
      ]
    },
    {
      "cell_type": "code",
      "execution_count": null,
      "metadata": {
        "id": "4TsDWWuehMw9"
      },
      "outputs": [],
      "source": [
        "# Merging both columns\n",
        "homicides_df[\"FECHA\"] = homicides_df[\"FECHA\"].astype(str).apply(lambda x: x[:11])+homicides_df[\"HORA\"]"
      ]
    },
    {
      "cell_type": "code",
      "execution_count": null,
      "metadata": {
        "id": "OFkDcIc4hMw9"
      },
      "outputs": [],
      "source": [
        "# Deleting redundant column\n",
        "homicides_df.drop(columns=[\"HORA\"], inplace=True)"
      ]
    },
    {
      "cell_type": "code",
      "execution_count": null,
      "metadata": {
        "id": "9F6EtRrjhMw-"
      },
      "outputs": [],
      "source": [
        "# Making a new expression for datetime parsing\n",
        "dateparse = lambda x: datetime.strptime(x, \"%Y-%m-%d %H:%M\")"
      ]
    },
    {
      "cell_type": "code",
      "execution_count": null,
      "metadata": {
        "id": "FdJOKNfAhMw-"
      },
      "outputs": [],
      "source": [
        "# Applying the expression\n",
        "homicides_df[\"FECHA\"] = homicides_df[\"FECHA\"].apply(dateparse)"
      ]
    },
    {
      "cell_type": "code",
      "execution_count": null,
      "metadata": {
        "id": "HfGMH_cPhMw_",
        "outputId": "cf3662b5-bb8a-4c08-c8f6-2dd919f13a4e"
      },
      "outputs": [
        {
          "data": {
            "text/plain": [
              "FECHA                datetime64[ns]\n",
              "DEPARTAMENTO                 object\n",
              "MUNICIPIO                    object\n",
              "DIA                          object\n",
              "BARRIO                       object\n",
              "ZONA                         object\n",
              "CLASE DE SITIO               object\n",
              "ARMA O MEDIO                 object\n",
              "MOVIL VICTIMA                object\n",
              "MOVIL AGRESOR                object\n",
              "EDAD                        float64\n",
              "GENERO                       object\n",
              "ESTADO CIVIL                 object\n",
              "CLASE EMPLEADO               object\n",
              "PROFESION                    object\n",
              "ESCOLARIDAD                  object\n",
              "PAIS NACE                    object\n",
              "CODIGO DANE                 float64\n",
              "AÑO DE NACIMIENTO           float64\n",
              "CÉDULA                       object\n",
              "CORREO                       object\n",
              "dtype: object"
            ]
          },
          "execution_count": 20,
          "metadata": {},
          "output_type": "execute_result"
        }
      ],
      "source": [
        "homicides_df.dtypes"
      ]
    },
    {
      "cell_type": "code",
      "execution_count": null,
      "metadata": {
        "id": "mAT6sMrzhMw_",
        "outputId": "fe41b561-08b3-4337-92a8-6c25c07ddba0"
      },
      "outputs": [
        {
          "data": {
            "text/html": [
              "<div>\n",
              "<style scoped>\n",
              "    .dataframe tbody tr th:only-of-type {\n",
              "        vertical-align: middle;\n",
              "    }\n",
              "\n",
              "    .dataframe tbody tr th {\n",
              "        vertical-align: top;\n",
              "    }\n",
              "\n",
              "    .dataframe thead th {\n",
              "        text-align: right;\n",
              "    }\n",
              "</style>\n",
              "<table border=\"1\" class=\"dataframe\">\n",
              "  <thead>\n",
              "    <tr style=\"text-align: right;\">\n",
              "      <th></th>\n",
              "      <th>FECHA</th>\n",
              "      <th>DEPARTAMENTO</th>\n",
              "      <th>MUNICIPIO</th>\n",
              "      <th>DIA</th>\n",
              "      <th>BARRIO</th>\n",
              "      <th>ZONA</th>\n",
              "      <th>CLASE DE SITIO</th>\n",
              "      <th>ARMA O MEDIO</th>\n",
              "      <th>MOVIL VICTIMA</th>\n",
              "      <th>MOVIL AGRESOR</th>\n",
              "      <th>EDAD</th>\n",
              "      <th>GENERO</th>\n",
              "      <th>ESTADO CIVIL</th>\n",
              "      <th>CLASE EMPLEADO</th>\n",
              "      <th>PROFESION</th>\n",
              "      <th>ESCOLARIDAD</th>\n",
              "      <th>PAIS NACE</th>\n",
              "      <th>CODIGO DANE</th>\n",
              "      <th>AÑO DE NACIMIENTO</th>\n",
              "      <th>CÉDULA</th>\n",
              "      <th>CORREO</th>\n",
              "    </tr>\n",
              "  </thead>\n",
              "  <tbody>\n",
              "    <tr>\n",
              "      <th>3498</th>\n",
              "      <td>2021-04-16 03:30:00</td>\n",
              "      <td>ANTIOQUIA</td>\n",
              "      <td>MARINILLA</td>\n",
              "      <td>Jueves</td>\n",
              "      <td>MARIA AUXILIADORA</td>\n",
              "      <td>URBANA</td>\n",
              "      <td>VIAS PUBLICAS</td>\n",
              "      <td>ARMA BLANCA</td>\n",
              "      <td>A PIE</td>\n",
              "      <td>A PIE</td>\n",
              "      <td>26.0</td>\n",
              "      <td>MASCULINO</td>\n",
              "      <td>SOLTERO</td>\n",
              "      <td>INDEPENDIENTE</td>\n",
              "      <td>NO REPORTADO</td>\n",
              "      <td>SECUNDARIA</td>\n",
              "      <td>COLOMBIA</td>\n",
              "      <td>5440000.0</td>\n",
              "      <td>1989.0</td>\n",
              "      <td>97-218</td>\n",
              "      <td>inkkoh7578@gmail.com</td>\n",
              "    </tr>\n",
              "    <tr>\n",
              "      <th>1863</th>\n",
              "      <td>2021-02-26 04:40:00</td>\n",
              "      <td>N. DE SANTANDER</td>\n",
              "      <td>TIBÚ</td>\n",
              "      <td>Jueves</td>\n",
              "      <td>BARRIO BUENOS AIRES</td>\n",
              "      <td>RURAL</td>\n",
              "      <td>VIAS PUBLICAS</td>\n",
              "      <td>ARMA DE FUEGO</td>\n",
              "      <td>A PIE</td>\n",
              "      <td>A PIE</td>\n",
              "      <td>21.0</td>\n",
              "      <td>MASCULINO</td>\n",
              "      <td>SOLTERO</td>\n",
              "      <td>EMPLEADO EJERCITO</td>\n",
              "      <td>NO REPORTADO</td>\n",
              "      <td>SECUNDARIA</td>\n",
              "      <td>COLOMBIA</td>\n",
              "      <td>54810000.0</td>\n",
              "      <td>1994.0</td>\n",
              "      <td>70-048</td>\n",
              "      <td>pderse6281@gmail.com</td>\n",
              "    </tr>\n",
              "    <tr>\n",
              "      <th>3107</th>\n",
              "      <td>2021-04-04 17:48:00</td>\n",
              "      <td>VALLE</td>\n",
              "      <td>CALI (CT)</td>\n",
              "      <td>Sábado</td>\n",
              "      <td>SINDICAL E12</td>\n",
              "      <td>URBANA</td>\n",
              "      <td>VIAS PUBLICAS</td>\n",
              "      <td>ARMA DE FUEGO</td>\n",
              "      <td>A PIE</td>\n",
              "      <td>A PIE</td>\n",
              "      <td>20.0</td>\n",
              "      <td>MASCULINO</td>\n",
              "      <td>SOLTERO</td>\n",
              "      <td>DESEMPLEADO</td>\n",
              "      <td>NO REPORTADO</td>\n",
              "      <td>SECUNDARIA</td>\n",
              "      <td>COLOMBIA</td>\n",
              "      <td>76001000.0</td>\n",
              "      <td>1995.0</td>\n",
              "      <td>86-738</td>\n",
              "      <td>mmbuqq1303@gmail.com</td>\n",
              "    </tr>\n",
              "    <tr>\n",
              "      <th>10553</th>\n",
              "      <td>2021-11-14 23:30:00</td>\n",
              "      <td>CAUCA</td>\n",
              "      <td>SANTA ROSA</td>\n",
              "      <td>Sábado</td>\n",
              "      <td>SAN JUAN DE VILLALOBOS</td>\n",
              "      <td>RURAL</td>\n",
              "      <td>CASAS DE HABITACION</td>\n",
              "      <td>ARMA BLANCA</td>\n",
              "      <td>A PIE</td>\n",
              "      <td>A PIE</td>\n",
              "      <td>21.0</td>\n",
              "      <td>FEMENINO</td>\n",
              "      <td>UNION LIBRE</td>\n",
              "      <td>AMA DE CASA</td>\n",
              "      <td>NO REPORTADO</td>\n",
              "      <td>PRIMARIA</td>\n",
              "      <td>COLOMBIA</td>\n",
              "      <td>19701000.0</td>\n",
              "      <td>1994.0</td>\n",
              "      <td>55-228</td>\n",
              "      <td>uetmgu3753@unidatos.edu.co</td>\n",
              "    </tr>\n",
              "    <tr>\n",
              "      <th>9724</th>\n",
              "      <td>2021-10-18 13:20:00</td>\n",
              "      <td>VALLE</td>\n",
              "      <td>PRADERA</td>\n",
              "      <td>Dominog</td>\n",
              "      <td>ALTO DEL CASTILLO</td>\n",
              "      <td>URBANA</td>\n",
              "      <td>VIAS PUBLICAS</td>\n",
              "      <td>ARMA DE FUEGO</td>\n",
              "      <td>A PIE</td>\n",
              "      <td>CONDUCTOR MOTOCICLETA</td>\n",
              "      <td>23.0</td>\n",
              "      <td>MASCULINO</td>\n",
              "      <td>UNION LIBRE</td>\n",
              "      <td>EMPLEADO PARTICULAR</td>\n",
              "      <td>NO REPORTADO</td>\n",
              "      <td>SECUNDARIA</td>\n",
              "      <td>COLOMBIA</td>\n",
              "      <td>76563000.0</td>\n",
              "      <td>1992.0</td>\n",
              "      <td>60-102</td>\n",
              "      <td>qoijbt6931@unidatos.edu.co</td>\n",
              "    </tr>\n",
              "  </tbody>\n",
              "</table>\n",
              "</div>"
            ],
            "text/plain": [
              "                    FECHA     DEPARTAMENTO   MUNICIPIO      DIA  \\\n",
              "3498  2021-04-16 03:30:00        ANTIOQUIA   MARINILLA   Jueves   \n",
              "1863  2021-02-26 04:40:00  N. DE SANTANDER        TIBÚ   Jueves   \n",
              "3107  2021-04-04 17:48:00            VALLE   CALI (CT)   Sábado   \n",
              "10553 2021-11-14 23:30:00            CAUCA  SANTA ROSA   Sábado   \n",
              "9724  2021-10-18 13:20:00            VALLE     PRADERA  Dominog   \n",
              "\n",
              "                       BARRIO    ZONA       CLASE DE SITIO   ARMA O MEDIO  \\\n",
              "3498        MARIA AUXILIADORA  URBANA        VIAS PUBLICAS    ARMA BLANCA   \n",
              "1863      BARRIO BUENOS AIRES   RURAL        VIAS PUBLICAS  ARMA DE FUEGO   \n",
              "3107             SINDICAL E12  URBANA        VIAS PUBLICAS  ARMA DE FUEGO   \n",
              "10553  SAN JUAN DE VILLALOBOS   RURAL  CASAS DE HABITACION    ARMA BLANCA   \n",
              "9724        ALTO DEL CASTILLO  URBANA        VIAS PUBLICAS  ARMA DE FUEGO   \n",
              "\n",
              "      MOVIL VICTIMA          MOVIL AGRESOR  EDAD     GENERO ESTADO CIVIL  \\\n",
              "3498          A PIE                  A PIE  26.0  MASCULINO      SOLTERO   \n",
              "1863          A PIE                  A PIE  21.0  MASCULINO      SOLTERO   \n",
              "3107          A PIE                  A PIE  20.0  MASCULINO      SOLTERO   \n",
              "10553         A PIE                  A PIE  21.0   FEMENINO  UNION LIBRE   \n",
              "9724          A PIE  CONDUCTOR MOTOCICLETA  23.0  MASCULINO  UNION LIBRE   \n",
              "\n",
              "            CLASE EMPLEADO     PROFESION ESCOLARIDAD PAIS NACE  CODIGO DANE  \\\n",
              "3498         INDEPENDIENTE  NO REPORTADO  SECUNDARIA  COLOMBIA    5440000.0   \n",
              "1863     EMPLEADO EJERCITO  NO REPORTADO  SECUNDARIA  COLOMBIA   54810000.0   \n",
              "3107           DESEMPLEADO  NO REPORTADO  SECUNDARIA  COLOMBIA   76001000.0   \n",
              "10553          AMA DE CASA  NO REPORTADO    PRIMARIA  COLOMBIA   19701000.0   \n",
              "9724   EMPLEADO PARTICULAR  NO REPORTADO  SECUNDARIA  COLOMBIA   76563000.0   \n",
              "\n",
              "       AÑO DE NACIMIENTO  CÉDULA                      CORREO  \n",
              "3498              1989.0  97-218        inkkoh7578@gmail.com  \n",
              "1863              1994.0  70-048        pderse6281@gmail.com  \n",
              "3107              1995.0  86-738        mmbuqq1303@gmail.com  \n",
              "10553             1994.0  55-228  uetmgu3753@unidatos.edu.co  \n",
              "9724              1992.0  60-102  qoijbt6931@unidatos.edu.co  "
            ]
          },
          "execution_count": 21,
          "metadata": {},
          "output_type": "execute_result"
        }
      ],
      "source": [
        "homicides_df.sample(5)"
      ]
    },
    {
      "cell_type": "markdown",
      "metadata": {
        "id": "lsZ0qPqXhMw_"
      },
      "source": [
        "## 2. Fixing categorical column"
      ]
    },
    {
      "cell_type": "code",
      "execution_count": null,
      "metadata": {
        "id": "imXmFuuXhMw_"
      },
      "outputs": [],
      "source": [
        "# Creating a dictionary representing the valid departments for Colombia\n",
        "departments_list = ['ANTIOQUIA', 'ATLÁNTICO', 'BOLÍVAR', 'BOYACÁ', 'CALDAS', 'CAQUETÁ',\n",
        "       'CASANARE', 'CAUCA', 'CESAR', 'CHOCÓ', 'CÓRDOBA', 'META',\n",
        "       'CUNDINAMARCA', 'HUILA', 'MAGDALENA', 'NARIÑO', 'PUTUMAYO',\n",
        "       'RISARALDA', 'SANTANDER', 'SUCRE', 'TOLIMA', 'VALLE',\n",
        "       'NORTE DE SANTANDER', 'GUAJIRA', 'QUINDÍO', 'SAN ANDRÉS Y PROVIDENCIA', 'ARAUCA',\n",
        "       'GUAINÍA', 'VICHADA', 'VAUPÉS', 'GUAVIARE', 'AMAZONAS']"
      ]
    },
    {
      "cell_type": "code",
      "execution_count": null,
      "metadata": {
        "id": "mdqdOc3VhMxA",
        "outputId": "e22bcf4f-7dd6-4f3a-ded9-4d3cb7041db4"
      },
      "outputs": [
        {
          "data": {
            "text/plain": [
              "array(['SAN ANDRÉS', 'N. DE SANTANDER'], dtype=object)"
            ]
          },
          "execution_count": 23,
          "metadata": {},
          "output_type": "execute_result"
        }
      ],
      "source": [
        "# Finding values not matching with the dictionary\n",
        "homicides_df.loc[~homicides_df[\"DEPARTAMENTO\"].isin(departments_list), \"DEPARTAMENTO\"].unique()"
      ]
    },
    {
      "cell_type": "markdown",
      "metadata": {
        "id": "O3UVV4KdhMxA"
      },
      "source": [
        "<span style=\"color:red\">TODO: Replace the values identified as error to a valid value from the dictionary.</span>\n",
        "\n",
        "<span style=\"color:red\">Hint: You can use the replace() pandas function.</span>"
      ]
    },
    {
      "cell_type": "code",
      "execution_count": null,
      "metadata": {
        "id": "aYQLlu_ThMxA"
      },
      "outputs": [],
      "source": [
        "homicides_df[\"DEPARTAMENTO\"] = homicides_df[\"DEPARTAMENTO\"].replace(to_replace=\"SAN ANDRÉS\",\n",
        "           value=\"SAN ANDRÉS Y PROVIDENCIA\")\n",
        "\n",
        "homicides_df[\"DEPARTAMENTO\"] = homicides_df[\"DEPARTAMENTO\"].replace(to_replace=\"N. DE SANTANDER\",\n",
        "           value=\"NORTE DE SANTANDER\")"
      ]
    },
    {
      "cell_type": "code",
      "execution_count": null,
      "metadata": {
        "id": "I8Ecv0bAhMxB",
        "outputId": "e53d61fa-062b-4899-8bb9-9eb36201547f"
      },
      "outputs": [
        {
          "data": {
            "text/plain": [
              "array([], dtype=object)"
            ]
          },
          "execution_count": 41,
          "metadata": {},
          "output_type": "execute_result"
        }
      ],
      "source": [
        "homicides_df.loc[~homicides_df[\"DEPARTAMENTO\"].isin(departments_list), \"DEPARTAMENTO\"].unique()"
      ]
    },
    {
      "cell_type": "markdown",
      "metadata": {
        "id": "IA299VAMhMxB"
      },
      "source": [
        "Ya no quedan registros cuyo valor este por fuera del dominio de departamentos válidos"
      ]
    },
    {
      "cell_type": "markdown",
      "metadata": {
        "id": "2A6FhDRJhMxB"
      },
      "source": [
        "## 3. Analyzing potential duplicates"
      ]
    },
    {
      "cell_type": "code",
      "execution_count": null,
      "metadata": {
        "id": "GFgIdEcqhMxB"
      },
      "outputs": [],
      "source": [
        "# Detecting duplicates by \"CÉDULA\" column\n",
        "duplicates_by_cedula = homicides_df.loc[homicides_df[\"CÉDULA\"].duplicated(keep=False)]"
      ]
    },
    {
      "cell_type": "code",
      "execution_count": null,
      "metadata": {
        "id": "L44gwCsZhMxC",
        "outputId": "9b1f543e-8722-4534-bdbc-36a076e00fe0"
      },
      "outputs": [
        {
          "data": {
            "text/plain": [
              "(1627, 21)"
            ]
          },
          "execution_count": 43,
          "metadata": {},
          "output_type": "execute_result"
        }
      ],
      "source": [
        "duplicates_by_cedula.shape"
      ]
    },
    {
      "cell_type": "code",
      "execution_count": null,
      "metadata": {
        "id": "85tZWpVthMxC",
        "outputId": "b7560762-c745-4d61-9667-20ee0f1cebd4"
      },
      "outputs": [
        {
          "data": {
            "text/html": [
              "<div>\n",
              "<style scoped>\n",
              "    .dataframe tbody tr th:only-of-type {\n",
              "        vertical-align: middle;\n",
              "    }\n",
              "\n",
              "    .dataframe tbody tr th {\n",
              "        vertical-align: top;\n",
              "    }\n",
              "\n",
              "    .dataframe thead th {\n",
              "        text-align: right;\n",
              "    }\n",
              "</style>\n",
              "<table border=\"1\" class=\"dataframe\">\n",
              "  <thead>\n",
              "    <tr style=\"text-align: right;\">\n",
              "      <th></th>\n",
              "      <th>FECHA</th>\n",
              "      <th>DEPARTAMENTO</th>\n",
              "      <th>MUNICIPIO</th>\n",
              "      <th>DIA</th>\n",
              "      <th>BARRIO</th>\n",
              "      <th>ZONA</th>\n",
              "      <th>CLASE DE SITIO</th>\n",
              "      <th>ARMA O MEDIO</th>\n",
              "      <th>MOVIL VICTIMA</th>\n",
              "      <th>MOVIL AGRESOR</th>\n",
              "      <th>EDAD</th>\n",
              "      <th>GENERO</th>\n",
              "      <th>ESTADO CIVIL</th>\n",
              "      <th>CLASE EMPLEADO</th>\n",
              "      <th>PROFESION</th>\n",
              "      <th>ESCOLARIDAD</th>\n",
              "      <th>PAIS NACE</th>\n",
              "      <th>CODIGO DANE</th>\n",
              "      <th>AÑO DE NACIMIENTO</th>\n",
              "      <th>CÉDULA</th>\n",
              "      <th>CORREO</th>\n",
              "    </tr>\n",
              "  </thead>\n",
              "  <tbody>\n",
              "    <tr>\n",
              "      <th>4041</th>\n",
              "      <td>2021-05-03 23:30:00</td>\n",
              "      <td>CAUCA</td>\n",
              "      <td>EL TAMBO</td>\n",
              "      <td>Domingo</td>\n",
              "      <td>LA VICTORIA</td>\n",
              "      <td>RURAL</td>\n",
              "      <td>BARES, CANTINAS Y SIMILARES</td>\n",
              "      <td>ARMA DE FUEGO</td>\n",
              "      <td>A PIE</td>\n",
              "      <td>A PIE</td>\n",
              "      <td>45.0</td>\n",
              "      <td>MASCULINO</td>\n",
              "      <td>UNION LIBRE</td>\n",
              "      <td>AGRICULTOR</td>\n",
              "      <td>NO REPORTADO</td>\n",
              "      <td>PRIMARIA</td>\n",
              "      <td>COLOMBIA</td>\n",
              "      <td>19256000.0</td>\n",
              "      <td>1970.0</td>\n",
              "      <td>10-048</td>\n",
              "      <td>aitufn1227@gmail.com</td>\n",
              "    </tr>\n",
              "    <tr>\n",
              "      <th>3810</th>\n",
              "      <td>2021-04-26 03:00:00</td>\n",
              "      <td>ANTIOQUIA</td>\n",
              "      <td>SAN JERÓNIMO</td>\n",
              "      <td>Domingo</td>\n",
              "      <td>LA PLAYA</td>\n",
              "      <td>URBANA</td>\n",
              "      <td>HOTELES, RESIDENCIAS, Y SIMILARES.</td>\n",
              "      <td>CUERDA/SOGA/CADENA</td>\n",
              "      <td>A PIE</td>\n",
              "      <td>A PIE</td>\n",
              "      <td>25.0</td>\n",
              "      <td>MASCULINO</td>\n",
              "      <td>SOLTERO</td>\n",
              "      <td>INDEPENDIENTE</td>\n",
              "      <td>NO REPORTADO</td>\n",
              "      <td>SECUNDARIA</td>\n",
              "      <td>COLOMBIA</td>\n",
              "      <td>5656000.0</td>\n",
              "      <td>1990.0</td>\n",
              "      <td>10-048</td>\n",
              "      <td>ibbcpu2509@unidatos.edu.co</td>\n",
              "    </tr>\n",
              "    <tr>\n",
              "      <th>693</th>\n",
              "      <td>2021-01-19 05:30:00</td>\n",
              "      <td>ANTIOQUIA</td>\n",
              "      <td>SALGAR</td>\n",
              "      <td>Lunes</td>\n",
              "      <td>LA HABANA</td>\n",
              "      <td>URBANA</td>\n",
              "      <td>VIAS PUBLICAS</td>\n",
              "      <td>ARMA DE FUEGO</td>\n",
              "      <td>A PIE</td>\n",
              "      <td>A PIE</td>\n",
              "      <td>58.0</td>\n",
              "      <td>MASCULINO</td>\n",
              "      <td>SOLTERO</td>\n",
              "      <td>AGRICULTOR</td>\n",
              "      <td>NO REPORTADO</td>\n",
              "      <td>PRIMARIA</td>\n",
              "      <td>COLOMBIA</td>\n",
              "      <td>5642000.0</td>\n",
              "      <td>57.0</td>\n",
              "      <td>10-079</td>\n",
              "      <td>unhoqj1172@unidatos.edu.co</td>\n",
              "    </tr>\n",
              "    <tr>\n",
              "      <th>10796</th>\n",
              "      <td>2021-11-20 03:00:00</td>\n",
              "      <td>VALLE</td>\n",
              "      <td>CALI (CT)</td>\n",
              "      <td>Viernes</td>\n",
              "      <td>POTRERO GRANDE E21</td>\n",
              "      <td>URBANA</td>\n",
              "      <td>VIAS PUBLICAS</td>\n",
              "      <td>ARMA DE FUEGO</td>\n",
              "      <td>A PIE</td>\n",
              "      <td>A PIE</td>\n",
              "      <td>21.0</td>\n",
              "      <td>MASCULINO</td>\n",
              "      <td>SOLTERO</td>\n",
              "      <td>EMPLEADO PARTICULAR</td>\n",
              "      <td>NO REPORTADO</td>\n",
              "      <td>SECUNDARIA</td>\n",
              "      <td>COLOMBIA</td>\n",
              "      <td>76001000.0</td>\n",
              "      <td>1994.0</td>\n",
              "      <td>10-079</td>\n",
              "      <td>iknnoj8430@unidatos.edu.co</td>\n",
              "    </tr>\n",
              "    <tr>\n",
              "      <th>2386</th>\n",
              "      <td>2021-03-14 02:00:00</td>\n",
              "      <td>META</td>\n",
              "      <td>FUENTE DE ORO</td>\n",
              "      <td>Sábado</td>\n",
              "      <td>VEREDA PUERTO NUEVO</td>\n",
              "      <td>RURAL</td>\n",
              "      <td>BARES, CANTINAS Y SIMILARES</td>\n",
              "      <td>ARMA BLANCA</td>\n",
              "      <td>A PIE</td>\n",
              "      <td>A PIE</td>\n",
              "      <td>42.0</td>\n",
              "      <td>MASCULINO</td>\n",
              "      <td>SOLTERO</td>\n",
              "      <td>INDEPENDIENTE</td>\n",
              "      <td>NO REPORTADO</td>\n",
              "      <td>PRIMARIA</td>\n",
              "      <td>COLOMBIA</td>\n",
              "      <td>50287000.0</td>\n",
              "      <td>1973.0</td>\n",
              "      <td>10-255</td>\n",
              "      <td>afompq7113@unidatos.edu.co</td>\n",
              "    </tr>\n",
              "    <tr>\n",
              "      <th>138</th>\n",
              "      <td>2021-01-02 06:20:00</td>\n",
              "      <td>CAUCA</td>\n",
              "      <td>SOTARA</td>\n",
              "      <td>Viernes</td>\n",
              "      <td>CENTRO</td>\n",
              "      <td>RURAL</td>\n",
              "      <td>VIAS PUBLICAS</td>\n",
              "      <td>ARMA BLANCA</td>\n",
              "      <td>A PIE</td>\n",
              "      <td>A PIE</td>\n",
              "      <td>22.0</td>\n",
              "      <td>MASCULINO</td>\n",
              "      <td>SOLTERO</td>\n",
              "      <td>EMPLEADO EJERCITO</td>\n",
              "      <td>NO REPORTADO</td>\n",
              "      <td>SECUNDARIA</td>\n",
              "      <td>COLOMBIA</td>\n",
              "      <td>19760000.0</td>\n",
              "      <td>1993.0</td>\n",
              "      <td>10-255</td>\n",
              "      <td>cobgqs8819@unidatos.edu.co</td>\n",
              "    </tr>\n",
              "  </tbody>\n",
              "</table>\n",
              "</div>"
            ],
            "text/plain": [
              "                    FECHA DEPARTAMENTO      MUNICIPIO      DIA  \\\n",
              "4041  2021-05-03 23:30:00        CAUCA       EL TAMBO  Domingo   \n",
              "3810  2021-04-26 03:00:00    ANTIOQUIA   SAN JERÓNIMO  Domingo   \n",
              "693   2021-01-19 05:30:00    ANTIOQUIA         SALGAR    Lunes   \n",
              "10796 2021-11-20 03:00:00        VALLE      CALI (CT)  Viernes   \n",
              "2386  2021-03-14 02:00:00         META  FUENTE DE ORO   Sábado   \n",
              "138   2021-01-02 06:20:00        CAUCA         SOTARA  Viernes   \n",
              "\n",
              "                    BARRIO    ZONA                      CLASE DE SITIO  \\\n",
              "4041           LA VICTORIA   RURAL         BARES, CANTINAS Y SIMILARES   \n",
              "3810              LA PLAYA  URBANA  HOTELES, RESIDENCIAS, Y SIMILARES.   \n",
              "693              LA HABANA  URBANA                       VIAS PUBLICAS   \n",
              "10796   POTRERO GRANDE E21  URBANA                       VIAS PUBLICAS   \n",
              "2386   VEREDA PUERTO NUEVO   RURAL         BARES, CANTINAS Y SIMILARES   \n",
              "138                 CENTRO   RURAL                       VIAS PUBLICAS   \n",
              "\n",
              "             ARMA O MEDIO MOVIL VICTIMA MOVIL AGRESOR  EDAD     GENERO  \\\n",
              "4041        ARMA DE FUEGO         A PIE         A PIE  45.0  MASCULINO   \n",
              "3810   CUERDA/SOGA/CADENA         A PIE         A PIE  25.0  MASCULINO   \n",
              "693         ARMA DE FUEGO         A PIE         A PIE  58.0  MASCULINO   \n",
              "10796       ARMA DE FUEGO         A PIE         A PIE  21.0  MASCULINO   \n",
              "2386          ARMA BLANCA         A PIE         A PIE  42.0  MASCULINO   \n",
              "138           ARMA BLANCA         A PIE         A PIE  22.0  MASCULINO   \n",
              "\n",
              "      ESTADO CIVIL       CLASE EMPLEADO     PROFESION ESCOLARIDAD PAIS NACE  \\\n",
              "4041   UNION LIBRE           AGRICULTOR  NO REPORTADO    PRIMARIA  COLOMBIA   \n",
              "3810       SOLTERO        INDEPENDIENTE  NO REPORTADO  SECUNDARIA  COLOMBIA   \n",
              "693        SOLTERO           AGRICULTOR  NO REPORTADO    PRIMARIA  COLOMBIA   \n",
              "10796      SOLTERO  EMPLEADO PARTICULAR  NO REPORTADO  SECUNDARIA  COLOMBIA   \n",
              "2386       SOLTERO        INDEPENDIENTE  NO REPORTADO    PRIMARIA  COLOMBIA   \n",
              "138        SOLTERO    EMPLEADO EJERCITO  NO REPORTADO  SECUNDARIA  COLOMBIA   \n",
              "\n",
              "       CODIGO DANE  AÑO DE NACIMIENTO  CÉDULA                      CORREO  \n",
              "4041    19256000.0             1970.0  10-048        aitufn1227@gmail.com  \n",
              "3810     5656000.0             1990.0  10-048  ibbcpu2509@unidatos.edu.co  \n",
              "693      5642000.0               57.0  10-079  unhoqj1172@unidatos.edu.co  \n",
              "10796   76001000.0             1994.0  10-079  iknnoj8430@unidatos.edu.co  \n",
              "2386    50287000.0             1973.0  10-255  afompq7113@unidatos.edu.co  \n",
              "138     19760000.0             1993.0  10-255  cobgqs8819@unidatos.edu.co  "
            ]
          },
          "execution_count": 44,
          "metadata": {},
          "output_type": "execute_result"
        }
      ],
      "source": [
        "duplicates_by_cedula.sort_values(\"CÉDULA\", ascending=True).head(6)"
      ]
    },
    {
      "cell_type": "markdown",
      "metadata": {
        "id": "8DRxPdiihMxD"
      },
      "source": [
        "<span style=\"color:red\">TODO: Delete records with \"CÉDULA\" duplicated.</span>\n",
        "\n",
        "<span style=\"color:red\">Hint: You can use drop_duplicates() pandas function.</span>"
      ]
    },
    {
      "cell_type": "code",
      "execution_count": null,
      "metadata": {
        "id": "4gIvvwoghMxD"
      },
      "outputs": [],
      "source": [
        "homicides_df = homicides_df.drop_duplicates(subset=['CÉDULA'])"
      ]
    },
    {
      "cell_type": "code",
      "execution_count": null,
      "metadata": {
        "id": "e933h7NbhMxD",
        "outputId": "9c6da327-ccf6-4006-c312-5e29bcbca068"
      },
      "outputs": [
        {
          "data": {
            "text/plain": [
              "(0, 21)"
            ]
          },
          "execution_count": 48,
          "metadata": {},
          "output_type": "execute_result"
        }
      ],
      "source": [
        "duplicates_by_cedula = homicides_df.loc[homicides_df[\"CÉDULA\"].duplicated(keep=False)]\n",
        "duplicates_by_cedula.shape"
      ]
    },
    {
      "cell_type": "markdown",
      "metadata": {
        "id": "SIVtHwX1hMxE"
      },
      "source": [
        "## 4. Fixing formats"
      ]
    },
    {
      "cell_type": "code",
      "execution_count": null,
      "metadata": {
        "id": "5IZundaQhMxE"
      },
      "outputs": [],
      "source": [
        "# Using regular expressions for validating if \"CÉDULA\" values match the pattern XX-XXX\n",
        "cedula_malformed = homicides_df.loc[homicides_df[\"CÉDULA\"].apply(lambda x: (re.match(\"\\d{2}-\\d{3}\", x) is None))]"
      ]
    },
    {
      "cell_type": "code",
      "execution_count": null,
      "metadata": {
        "id": "hvCChCWZhMxE",
        "outputId": "8f48eee5-93a0-41a1-c268-8f8f386cb400"
      },
      "outputs": [
        {
          "data": {
            "text/plain": [
              "(28, 21)"
            ]
          },
          "execution_count": 50,
          "metadata": {},
          "output_type": "execute_result"
        }
      ],
      "source": [
        "cedula_malformed.shape"
      ]
    },
    {
      "cell_type": "code",
      "execution_count": null,
      "metadata": {
        "id": "zAxWtp1lhMxF",
        "outputId": "80e5b07c-b48b-431e-f270-700ada9c5ff6"
      },
      "outputs": [
        {
          "data": {
            "text/html": [
              "<div>\n",
              "<style scoped>\n",
              "    .dataframe tbody tr th:only-of-type {\n",
              "        vertical-align: middle;\n",
              "    }\n",
              "\n",
              "    .dataframe tbody tr th {\n",
              "        vertical-align: top;\n",
              "    }\n",
              "\n",
              "    .dataframe thead th {\n",
              "        text-align: right;\n",
              "    }\n",
              "</style>\n",
              "<table border=\"1\" class=\"dataframe\">\n",
              "  <thead>\n",
              "    <tr style=\"text-align: right;\">\n",
              "      <th></th>\n",
              "      <th>FECHA</th>\n",
              "      <th>DEPARTAMENTO</th>\n",
              "      <th>MUNICIPIO</th>\n",
              "      <th>DIA</th>\n",
              "      <th>BARRIO</th>\n",
              "      <th>ZONA</th>\n",
              "      <th>CLASE DE SITIO</th>\n",
              "      <th>ARMA O MEDIO</th>\n",
              "      <th>MOVIL VICTIMA</th>\n",
              "      <th>MOVIL AGRESOR</th>\n",
              "      <th>EDAD</th>\n",
              "      <th>GENERO</th>\n",
              "      <th>ESTADO CIVIL</th>\n",
              "      <th>CLASE EMPLEADO</th>\n",
              "      <th>PROFESION</th>\n",
              "      <th>ESCOLARIDAD</th>\n",
              "      <th>PAIS NACE</th>\n",
              "      <th>CODIGO DANE</th>\n",
              "      <th>AÑO DE NACIMIENTO</th>\n",
              "      <th>CÉDULA</th>\n",
              "      <th>CORREO</th>\n",
              "    </tr>\n",
              "  </thead>\n",
              "  <tbody>\n",
              "    <tr>\n",
              "      <th>172</th>\n",
              "      <td>2021-01-03 11:00:00</td>\n",
              "      <td>META</td>\n",
              "      <td>MESETAS</td>\n",
              "      <td>Sábado</td>\n",
              "      <td>VEREDA EL CAFRE</td>\n",
              "      <td>RURAL</td>\n",
              "      <td>ZONA SELVÁTICA</td>\n",
              "      <td>MINA ANTIPERSONA</td>\n",
              "      <td>A PIE</td>\n",
              "      <td>A PIE</td>\n",
              "      <td>24.0</td>\n",
              "      <td>MASCULINO</td>\n",
              "      <td>SOLTERO</td>\n",
              "      <td>EMPLEADO EJERCITO</td>\n",
              "      <td>NO REPORTADO</td>\n",
              "      <td>SECUNDARIA</td>\n",
              "      <td>COLOMBIA</td>\n",
              "      <td>50330000.0</td>\n",
              "      <td>1991.0</td>\n",
              "      <td>680-21</td>\n",
              "      <td>oohghd8899@gmail.com</td>\n",
              "    </tr>\n",
              "    <tr>\n",
              "      <th>1114</th>\n",
              "      <td>2021-02-01 12:30:00</td>\n",
              "      <td>ATLÁNTICO</td>\n",
              "      <td>BARRANQUILLA (CT)</td>\n",
              "      <td>Domingo</td>\n",
              "      <td>LA LUZ</td>\n",
              "      <td>URBANA</td>\n",
              "      <td>VIAS PUBLICAS</td>\n",
              "      <td>ARMA DE FUEGO</td>\n",
              "      <td>A PIE</td>\n",
              "      <td>A PIE</td>\n",
              "      <td>29.0</td>\n",
              "      <td>MASCULINO</td>\n",
              "      <td>SOLTERO</td>\n",
              "      <td>INDEPENDIENTE</td>\n",
              "      <td>NO REPORTADO</td>\n",
              "      <td>PRIMARIA</td>\n",
              "      <td>COLOMBIA</td>\n",
              "      <td>8001000.0</td>\n",
              "      <td>1986.0</td>\n",
              "      <td>140-17</td>\n",
              "      <td>correo5853@colombia.gov.co</td>\n",
              "    </tr>\n",
              "    <tr>\n",
              "      <th>2119</th>\n",
              "      <td>2021-03-06 15:30:00</td>\n",
              "      <td>VALLE</td>\n",
              "      <td>CALI (CT)</td>\n",
              "      <td>Viernes</td>\n",
              "      <td>QUINTAS DEL SOL E14</td>\n",
              "      <td>URBANA</td>\n",
              "      <td>DENTRO DE LA VIVIENDA</td>\n",
              "      <td>ARMA BLANCA</td>\n",
              "      <td>A PIE</td>\n",
              "      <td>A PIE</td>\n",
              "      <td>20.0</td>\n",
              "      <td>FEMENINO</td>\n",
              "      <td>UNION LIBRE</td>\n",
              "      <td>EMPLEADO PARTICULAR</td>\n",
              "      <td>NO REPORTADO</td>\n",
              "      <td>SECUNDARIA</td>\n",
              "      <td>COLOMBIA</td>\n",
              "      <td>76001000.0</td>\n",
              "      <td>1995.0</td>\n",
              "      <td>975-31</td>\n",
              "      <td>ohbqrk3631@unidatos.edu.co</td>\n",
              "    </tr>\n",
              "    <tr>\n",
              "      <th>3309</th>\n",
              "      <td>2021-04-11 10:30:00</td>\n",
              "      <td>CAQUETÁ</td>\n",
              "      <td>FLORENCIA (CT)</td>\n",
              "      <td>Sávado</td>\n",
              "      <td>VIA MORELIA</td>\n",
              "      <td>RURAL</td>\n",
              "      <td>CARCELES</td>\n",
              "      <td>CORTANTES</td>\n",
              "      <td>A PIE</td>\n",
              "      <td>A PIE</td>\n",
              "      <td>23.0</td>\n",
              "      <td>MASCULINO</td>\n",
              "      <td>SOLTERO</td>\n",
              "      <td>INDEPENDIENTE</td>\n",
              "      <td>NO REPORTADO</td>\n",
              "      <td>PRIMARIA</td>\n",
              "      <td>COLOMBIA</td>\n",
              "      <td>18001000.0</td>\n",
              "      <td>1992.0</td>\n",
              "      <td>348-66</td>\n",
              "      <td>pdkqur8407@unidatos.edu.co</td>\n",
              "    </tr>\n",
              "    <tr>\n",
              "      <th>3409</th>\n",
              "      <td>2021-04-13 23:20:00</td>\n",
              "      <td>CÓRDOBA</td>\n",
              "      <td>SAHAGÚN</td>\n",
              "      <td>Lunes</td>\n",
              "      <td>CORREGIMIENTO DE BAJO GRANDE</td>\n",
              "      <td>URBANA</td>\n",
              "      <td>BILLARES</td>\n",
              "      <td>CONTUNDENTES</td>\n",
              "      <td>A PIE</td>\n",
              "      <td>A PIE</td>\n",
              "      <td>49.0</td>\n",
              "      <td>MASCULINO</td>\n",
              "      <td>SOLTERO</td>\n",
              "      <td>INDEPENDIENTE</td>\n",
              "      <td>NO REPORTADO</td>\n",
              "      <td>SECUNDARIA</td>\n",
              "      <td>COLOMBIA</td>\n",
              "      <td>23660000.0</td>\n",
              "      <td>1966.0</td>\n",
              "      <td>496-18</td>\n",
              "      <td>fdbbeo6751@unidatos.edu.co</td>\n",
              "    </tr>\n",
              "    <tr>\n",
              "      <th>3588</th>\n",
              "      <td>2021-04-19 20:00:00</td>\n",
              "      <td>BOLÍVAR</td>\n",
              "      <td>CARTAGENA (CT)</td>\n",
              "      <td>Domingo</td>\n",
              "      <td>LA ESPERANZA</td>\n",
              "      <td>URBANA</td>\n",
              "      <td>VIAS PUBLICAS</td>\n",
              "      <td>ARMA DE FUEGO</td>\n",
              "      <td>A PIE</td>\n",
              "      <td>A PIE</td>\n",
              "      <td>45.0</td>\n",
              "      <td>MASCULINO</td>\n",
              "      <td>SOLTERO</td>\n",
              "      <td>DESEMPLEADO</td>\n",
              "      <td>NO REPORTADO</td>\n",
              "      <td>NO REPORTADO</td>\n",
              "      <td>NO REPORTADO</td>\n",
              "      <td>13001000.0</td>\n",
              "      <td>1970.0</td>\n",
              "      <td>188-03</td>\n",
              "      <td>diebuo5651@unidatos.edu.co</td>\n",
              "    </tr>\n",
              "  </tbody>\n",
              "</table>\n",
              "</div>"
            ],
            "text/plain": [
              "                   FECHA DEPARTAMENTO          MUNICIPIO      DIA  \\\n",
              "172  2021-01-03 11:00:00         META            MESETAS   Sábado   \n",
              "1114 2021-02-01 12:30:00    ATLÁNTICO  BARRANQUILLA (CT)  Domingo   \n",
              "2119 2021-03-06 15:30:00        VALLE          CALI (CT)  Viernes   \n",
              "3309 2021-04-11 10:30:00      CAQUETÁ     FLORENCIA (CT)   Sávado   \n",
              "3409 2021-04-13 23:20:00      CÓRDOBA            SAHAGÚN    Lunes   \n",
              "3588 2021-04-19 20:00:00      BOLÍVAR     CARTAGENA (CT)  Domingo   \n",
              "\n",
              "                            BARRIO    ZONA         CLASE DE SITIO  \\\n",
              "172                VEREDA EL CAFRE   RURAL         ZONA SELVÁTICA   \n",
              "1114                        LA LUZ  URBANA          VIAS PUBLICAS   \n",
              "2119           QUINTAS DEL SOL E14  URBANA  DENTRO DE LA VIVIENDA   \n",
              "3309                   VIA MORELIA   RURAL               CARCELES   \n",
              "3409  CORREGIMIENTO DE BAJO GRANDE  URBANA               BILLARES   \n",
              "3588                  LA ESPERANZA  URBANA          VIAS PUBLICAS   \n",
              "\n",
              "          ARMA O MEDIO MOVIL VICTIMA MOVIL AGRESOR  EDAD     GENERO  \\\n",
              "172   MINA ANTIPERSONA         A PIE         A PIE  24.0  MASCULINO   \n",
              "1114     ARMA DE FUEGO         A PIE         A PIE  29.0  MASCULINO   \n",
              "2119       ARMA BLANCA         A PIE         A PIE  20.0   FEMENINO   \n",
              "3309         CORTANTES         A PIE         A PIE  23.0  MASCULINO   \n",
              "3409      CONTUNDENTES         A PIE         A PIE  49.0  MASCULINO   \n",
              "3588     ARMA DE FUEGO         A PIE         A PIE  45.0  MASCULINO   \n",
              "\n",
              "     ESTADO CIVIL       CLASE EMPLEADO     PROFESION   ESCOLARIDAD  \\\n",
              "172       SOLTERO    EMPLEADO EJERCITO  NO REPORTADO    SECUNDARIA   \n",
              "1114      SOLTERO        INDEPENDIENTE  NO REPORTADO      PRIMARIA   \n",
              "2119  UNION LIBRE  EMPLEADO PARTICULAR  NO REPORTADO    SECUNDARIA   \n",
              "3309      SOLTERO        INDEPENDIENTE  NO REPORTADO      PRIMARIA   \n",
              "3409      SOLTERO        INDEPENDIENTE  NO REPORTADO    SECUNDARIA   \n",
              "3588      SOLTERO          DESEMPLEADO  NO REPORTADO  NO REPORTADO   \n",
              "\n",
              "         PAIS NACE  CODIGO DANE  AÑO DE NACIMIENTO  CÉDULA  \\\n",
              "172       COLOMBIA   50330000.0             1991.0  680-21   \n",
              "1114      COLOMBIA    8001000.0             1986.0  140-17   \n",
              "2119      COLOMBIA   76001000.0             1995.0  975-31   \n",
              "3309      COLOMBIA   18001000.0             1992.0  348-66   \n",
              "3409      COLOMBIA   23660000.0             1966.0  496-18   \n",
              "3588  NO REPORTADO   13001000.0             1970.0  188-03   \n",
              "\n",
              "                          CORREO  \n",
              "172         oohghd8899@gmail.com  \n",
              "1114  correo5853@colombia.gov.co  \n",
              "2119  ohbqrk3631@unidatos.edu.co  \n",
              "3309  pdkqur8407@unidatos.edu.co  \n",
              "3409  fdbbeo6751@unidatos.edu.co  \n",
              "3588  diebuo5651@unidatos.edu.co  "
            ]
          },
          "execution_count": 52,
          "metadata": {},
          "output_type": "execute_result"
        }
      ],
      "source": [
        "cedula_malformed.head(6)"
      ]
    },
    {
      "cell_type": "markdown",
      "metadata": {
        "id": "yx-lkCQihMxF"
      },
      "source": [
        "<span style=\"color:red\">TODO: Fix the malformed \"CÉDULA\" values.</span>"
      ]
    },
    {
      "cell_type": "code",
      "execution_count": null,
      "metadata": {
        "id": "LAqcSFdrhMxF"
      },
      "outputs": [],
      "source": [
        "homicides_df[\"CÉDULA\"] = homicides_df[\"CÉDULA\"].apply(lambda x: (x.replace('-','')))"
      ]
    },
    {
      "cell_type": "code",
      "execution_count": null,
      "metadata": {
        "id": "gIRTiv6FhMxG"
      },
      "outputs": [],
      "source": [
        "homicides_df[\"CÉDULA\"] = homicides_df[\"CÉDULA\"].str[:2] + \"-\" + homicides_df[\"CÉDULA\"].str[2:]"
      ]
    },
    {
      "cell_type": "markdown",
      "metadata": {
        "id": "lSTLZHyXhMxG"
      },
      "source": [
        "Verificamos que no hayan cedulas mal formadas"
      ]
    },
    {
      "cell_type": "code",
      "execution_count": null,
      "metadata": {
        "id": "Abr5MYnxhMxH",
        "outputId": "d45ff607-d97b-4c6d-d3e9-b5efbdb9c5aa"
      },
      "outputs": [
        {
          "data": {
            "text/plain": [
              "0    42-908\n",
              "1    15-183\n",
              "Name: CÉDULA, dtype: object"
            ]
          },
          "execution_count": 73,
          "metadata": {},
          "output_type": "execute_result"
        }
      ],
      "source": [
        "homicides_df[\"CÉDULA\"].head(2)"
      ]
    },
    {
      "cell_type": "code",
      "execution_count": null,
      "metadata": {
        "id": "a8LimIpGhMxH",
        "outputId": "d771e7ee-4cf3-499b-f7c2-afbfea298050"
      },
      "outputs": [
        {
          "name": "stdout",
          "output_type": "stream",
          "text": [
            "(0, 21)\n"
          ]
        }
      ],
      "source": [
        "cedula_malformed = homicides_df.loc[homicides_df[\"CÉDULA\"].apply(lambda x: (re.match(\"\\d{2}-\\d{3}\", x) is None))]\n",
        "print(cedula_malformed.shape)"
      ]
    },
    {
      "cell_type": "markdown",
      "metadata": {
        "id": "CqFU1ySmhMxI"
      },
      "source": [
        "Ya no quedan cedulas con valores que no siguen el lineamiento"
      ]
    },
    {
      "cell_type": "markdown",
      "metadata": {
        "id": "n8pgIiTphMxI"
      },
      "source": [
        "<span style=\"color:red\">TODO: Make something similar to check and fix the \"CORREO\" column (PATTERN: 4 digits before the @, only .edu.co and .com domains are allowed)</span>"
      ]
    },
    {
      "cell_type": "code",
      "execution_count": null,
      "metadata": {
        "id": "yLoNQHUdhMxI",
        "outputId": "97ca82a2-a516-47c1-9ac9-1c51495011a0"
      },
      "outputs": [
        {
          "data": {
            "text/plain": [
              "28     correo975@unidatos.edu.co\n",
              "36    correo4714@colombia.gov.co\n",
              "47    correo8297@colombia.gov.co\n",
              "55    correo7285@colombia.gov.co\n",
              "60     correo870@unidatos.edu.co\n",
              "63     correo102@unidatos.edu.co\n",
              "Name: CORREO, dtype: object"
            ]
          },
          "execution_count": 87,
          "metadata": {},
          "output_type": "execute_result"
        }
      ],
      "source": [
        "mail_malformed = homicides_df.loc[homicides_df[\"CORREO\"].apply(lambda x: (re.match(\".*\\d{4}@(.*\\.edu\\.co|.*\\.com)\", x) is None))]\n",
        "mail_malformed[\"CORREO\"].head(6)"
      ]
    },
    {
      "cell_type": "code",
      "execution_count": null,
      "metadata": {
        "id": "2SdqOOLGhMxJ",
        "outputId": "42fdbe9c-fd7f-4238-bf35-bb65a9bb7ecd"
      },
      "outputs": [
        {
          "data": {
            "text/plain": [
              "(2134, 21)"
            ]
          },
          "execution_count": 88,
          "metadata": {},
          "output_type": "execute_result"
        }
      ],
      "source": [
        "mail_malformed.shape"
      ]
    },
    {
      "cell_type": "markdown",
      "metadata": {
        "id": "FPbM7bSxhMxJ"
      },
      "source": [
        "Existen 2134 correos no validos"
      ]
    },
    {
      "cell_type": "code",
      "execution_count": null,
      "metadata": {
        "id": "11D7eAFthMxJ",
        "outputId": "d4469b93-0298-43e7-a05a-555a892c506f"
      },
      "outputs": [
        {
          "data": {
            "text/plain": [
              "array(['Jueves', 'Juees', 'Jueces', 'juves', 'Juevrs', 'Viernes',\n",
              "       'Viermes', 'iernes', 'virnes', 'Vierens', 'Sábado', 'Sabadi',\n",
              "       'Sabado', 'sábad', 'Sávado', 'Ssbado', 'Domingo', 'Domungo',\n",
              "       'Doningo', 'domungo', 'Lunes', 'lune', 'Luns', 'Lumes', 'kunes',\n",
              "       'Lnues', 'Martes', 'Mates', 'Marte', 'mates', 'Miércoles',\n",
              "       'Miwrcoles', 'Mircoles', 'Voernes', 'domnigo', 'Maryes',\n",
              "       'Miercoles', 'miércles', 'Dominog', 'Msrtes', 'Mirrcoles'],\n",
              "      dtype=object)"
            ]
          },
          "execution_count": 89,
          "metadata": {},
          "output_type": "execute_result"
        }
      ],
      "source": [
        "homicides_df[\"DIA\"].unique()"
      ]
    },
    {
      "cell_type": "code",
      "execution_count": null,
      "metadata": {
        "id": "tKYXuXy-hMxK",
        "outputId": "b86e86fc-1405-46f7-ae92-6926d27f70ea"
      },
      "outputs": [
        {
          "data": {
            "text/plain": [
              "3"
            ]
          },
          "execution_count": 31,
          "metadata": {},
          "output_type": "execute_result"
        }
      ],
      "source": [
        "# Calculating the distance between two words using the Levenshtein distance\n",
        "pylev.levenshtein(\"sábado\", \"sabaod\")"
      ]
    },
    {
      "cell_type": "code",
      "execution_count": null,
      "metadata": {
        "id": "rmTBCKohhMxK",
        "outputId": "fb66fb70-f64c-4bf2-f37b-7b489d85e2e6"
      },
      "outputs": [
        {
          "data": {
            "text/plain": [
              "7"
            ]
          },
          "execution_count": 32,
          "metadata": {},
          "output_type": "execute_result"
        }
      ],
      "source": [
        "pylev.levenshtein(\"sábado\", \"viernes\")"
      ]
    },
    {
      "cell_type": "code",
      "execution_count": null,
      "metadata": {
        "id": "woXWUiX6hMxK",
        "outputId": "406bd9e0-6a6c-4102-d880-ba786079a15e"
      },
      "outputs": [
        {
          "data": {
            "text/plain": [
              "0.6666666666666666"
            ]
          },
          "execution_count": 33,
          "metadata": {},
          "output_type": "execute_result"
        }
      ],
      "source": [
        "SequenceMatcher(None, \"sábado\", \"sabaod\").ratio()"
      ]
    },
    {
      "cell_type": "code",
      "execution_count": null,
      "metadata": {
        "id": "IWMMcmHahMxK",
        "outputId": "9e86c960-329a-42b4-87bd-a00a83f32d93"
      },
      "outputs": [
        {
          "data": {
            "text/plain": [
              "0.15384615384615385"
            ]
          },
          "execution_count": 34,
          "metadata": {},
          "output_type": "execute_result"
        }
      ],
      "source": [
        "SequenceMatcher(None, \"sábado\", \"viernes\").ratio()"
      ]
    },
    {
      "cell_type": "markdown",
      "metadata": {
        "id": "uE1x6YokhMxK"
      },
      "source": [
        "<span style=\"color:red\">How does SequenceMatcher works? How this differ from the Levenshtein distance?</span>"
      ]
    },
    {
      "cell_type": "markdown",
      "metadata": {
        "id": "ArjYb4_KhMxK"
      },
      "source": [
        "SequenceMatcher implementa el algoritmo LCS (Longest Contiguous Matching Subsequence), cuyo objetivo es encontrar la longitud de la subsecuencia más larga presente en ambas cadenas de texto. El método ratio retorna un score de similitud entre 0 y 1, que se calcula como 2 * M/T, donde M es la cantidad de elementos en comun, y T el número total de elementos en las dos secuencias. Entre más cercano a 1 sea el valor, más parecidas son las secuencias."
      ]
    },
    {
      "cell_type": "markdown",
      "metadata": {
        "id": "rRM9xbSbhMxL"
      },
      "source": [
        "<span style=\"color:red\">TODO: Create a function to fix the digitation errors for the \"DIA\" column.</span>"
      ]
    },
    {
      "cell_type": "code",
      "execution_count": null,
      "metadata": {
        "id": "8nNy2SqwhMxL"
      },
      "outputs": [],
      "source": [
        "dias = [\"Lunes\",\"Martes\",\"Miercoles\",\"Jueves\",\"Viernes\",\"Sábado\",\"Domingo\"]"
      ]
    },
    {
      "cell_type": "code",
      "execution_count": null,
      "metadata": {
        "id": "h4ovnXcohMxL"
      },
      "outputs": [],
      "source": [
        "def apply_sequenceMatcher(x):\n",
        "    diaRetornado = x\n",
        "    for dia in dias:\n",
        "        if SequenceMatcher(None, x, dia).ratio() > 0.6:\n",
        "            diaRetornado = dia\n",
        "            break\n",
        "    return diaRetornado"
      ]
    },
    {
      "cell_type": "code",
      "execution_count": null,
      "metadata": {
        "id": "hzyJ9pBGhMxL"
      },
      "outputs": [],
      "source": [
        "homicides_df[\"DIA\"] = homicides_df[\"DIA\"].apply(apply_sequenceMatcher)"
      ]
    },
    {
      "cell_type": "code",
      "execution_count": null,
      "metadata": {
        "id": "iYZPO-o-hMxL",
        "outputId": "d7f3b14f-889a-4738-c276-1605758277bc"
      },
      "outputs": [
        {
          "data": {
            "text/plain": [
              "array(['Jueves', 'Miercoles', 'Viernes', 'Sábado', 'Domingo', 'Lunes',\n",
              "       'Martes'], dtype=object)"
            ]
          },
          "execution_count": 96,
          "metadata": {},
          "output_type": "execute_result"
        }
      ],
      "source": [
        "homicides_df[\"DIA\"].unique()"
      ]
    },
    {
      "cell_type": "markdown",
      "metadata": {
        "id": "VKAx4RNyhMxM"
      },
      "source": [
        "Los valores de dia de todos los registros corresponden al dominio de valores válido"
      ]
    },
    {
      "cell_type": "markdown",
      "metadata": {
        "id": "abCOTpLphMxM"
      },
      "source": [
        "## 6. Recalculation based on a different column"
      ]
    },
    {
      "cell_type": "code",
      "execution_count": null,
      "metadata": {
        "id": "4aABHc3YhMxM",
        "outputId": "a76bbee0-b8bd-4511-d391-36ebb1f20814"
      },
      "outputs": [
        {
          "data": {
            "text/html": [
              "<div>\n",
              "<style scoped>\n",
              "    .dataframe tbody tr th:only-of-type {\n",
              "        vertical-align: middle;\n",
              "    }\n",
              "\n",
              "    .dataframe tbody tr th {\n",
              "        vertical-align: top;\n",
              "    }\n",
              "\n",
              "    .dataframe thead th {\n",
              "        text-align: right;\n",
              "    }\n",
              "</style>\n",
              "<table border=\"1\" class=\"dataframe\">\n",
              "  <thead>\n",
              "    <tr style=\"text-align: right;\">\n",
              "      <th></th>\n",
              "      <th>AÑO DE NACIMIENTO</th>\n",
              "      <th>EDAD</th>\n",
              "    </tr>\n",
              "  </thead>\n",
              "  <tbody>\n",
              "    <tr>\n",
              "      <th>11524</th>\n",
              "      <td>1986.0</td>\n",
              "      <td>29.0</td>\n",
              "    </tr>\n",
              "    <tr>\n",
              "      <th>3244</th>\n",
              "      <td>1979.0</td>\n",
              "      <td>36.0</td>\n",
              "    </tr>\n",
              "    <tr>\n",
              "      <th>1912</th>\n",
              "      <td>1991.0</td>\n",
              "      <td>24.0</td>\n",
              "    </tr>\n",
              "    <tr>\n",
              "      <th>429</th>\n",
              "      <td>1994.0</td>\n",
              "      <td>21.0</td>\n",
              "    </tr>\n",
              "    <tr>\n",
              "      <th>5069</th>\n",
              "      <td>1992.0</td>\n",
              "      <td>23.0</td>\n",
              "    </tr>\n",
              "    <tr>\n",
              "      <th>1749</th>\n",
              "      <td>2000.0</td>\n",
              "      <td>15.0</td>\n",
              "    </tr>\n",
              "    <tr>\n",
              "      <th>12396</th>\n",
              "      <td>1997.0</td>\n",
              "      <td>18.0</td>\n",
              "    </tr>\n",
              "    <tr>\n",
              "      <th>1035</th>\n",
              "      <td>1958.0</td>\n",
              "      <td>57.0</td>\n",
              "    </tr>\n",
              "    <tr>\n",
              "      <th>2560</th>\n",
              "      <td>1996.0</td>\n",
              "      <td>19.0</td>\n",
              "    </tr>\n",
              "    <tr>\n",
              "      <th>7573</th>\n",
              "      <td>1990.0</td>\n",
              "      <td>25.0</td>\n",
              "    </tr>\n",
              "  </tbody>\n",
              "</table>\n",
              "</div>"
            ],
            "text/plain": [
              "       AÑO DE NACIMIENTO  EDAD\n",
              "11524             1986.0  29.0\n",
              "3244              1979.0  36.0\n",
              "1912              1991.0  24.0\n",
              "429               1994.0  21.0\n",
              "5069              1992.0  23.0\n",
              "1749              2000.0  15.0\n",
              "12396             1997.0  18.0\n",
              "1035              1958.0  57.0\n",
              "2560              1996.0  19.0\n",
              "7573              1990.0  25.0"
            ]
          },
          "execution_count": 97,
          "metadata": {},
          "output_type": "execute_result"
        }
      ],
      "source": [
        "homicides_df[[\"AÑO DE NACIMIENTO\", \"EDAD\"]].sample(10)"
      ]
    },
    {
      "cell_type": "markdown",
      "metadata": {
        "id": "i7JupbmghMxN"
      },
      "source": [
        "<span style=\"color:red\">TODO: Fix the \"AÑO DE NACIMIENTO\" column using the column \"EDAD\".</span>"
      ]
    },
    {
      "cell_type": "code",
      "execution_count": null,
      "metadata": {
        "id": "8uPCa7QKhMxN"
      },
      "outputs": [],
      "source": [
        "homicides_df[\"EDAD\"] = datetime.now().date().year - homicides_df[\"AÑO DE NACIMIENTO\"]"
      ]
    },
    {
      "cell_type": "code",
      "execution_count": null,
      "metadata": {
        "id": "YhG5jOwZhMxN",
        "outputId": "ae5eff74-ab0f-4530-decf-851676f85907"
      },
      "outputs": [
        {
          "data": {
            "text/html": [
              "<div>\n",
              "<style scoped>\n",
              "    .dataframe tbody tr th:only-of-type {\n",
              "        vertical-align: middle;\n",
              "    }\n",
              "\n",
              "    .dataframe tbody tr th {\n",
              "        vertical-align: top;\n",
              "    }\n",
              "\n",
              "    .dataframe thead th {\n",
              "        text-align: right;\n",
              "    }\n",
              "</style>\n",
              "<table border=\"1\" class=\"dataframe\">\n",
              "  <thead>\n",
              "    <tr style=\"text-align: right;\">\n",
              "      <th></th>\n",
              "      <th>AÑO DE NACIMIENTO</th>\n",
              "      <th>EDAD</th>\n",
              "    </tr>\n",
              "  </thead>\n",
              "  <tbody>\n",
              "    <tr>\n",
              "      <th>1137</th>\n",
              "      <td>1994.0</td>\n",
              "      <td>29.0</td>\n",
              "    </tr>\n",
              "    <tr>\n",
              "      <th>9061</th>\n",
              "      <td>1979.0</td>\n",
              "      <td>44.0</td>\n",
              "    </tr>\n",
              "    <tr>\n",
              "      <th>10311</th>\n",
              "      <td>1965.0</td>\n",
              "      <td>58.0</td>\n",
              "    </tr>\n",
              "    <tr>\n",
              "      <th>3755</th>\n",
              "      <td>1978.0</td>\n",
              "      <td>45.0</td>\n",
              "    </tr>\n",
              "    <tr>\n",
              "      <th>8184</th>\n",
              "      <td>1956.0</td>\n",
              "      <td>67.0</td>\n",
              "    </tr>\n",
              "    <tr>\n",
              "      <th>10316</th>\n",
              "      <td>2014.0</td>\n",
              "      <td>9.0</td>\n",
              "    </tr>\n",
              "    <tr>\n",
              "      <th>1268</th>\n",
              "      <td>1951.0</td>\n",
              "      <td>72.0</td>\n",
              "    </tr>\n",
              "    <tr>\n",
              "      <th>2140</th>\n",
              "      <td>1993.0</td>\n",
              "      <td>30.0</td>\n",
              "    </tr>\n",
              "    <tr>\n",
              "      <th>8510</th>\n",
              "      <td>1991.0</td>\n",
              "      <td>32.0</td>\n",
              "    </tr>\n",
              "    <tr>\n",
              "      <th>2658</th>\n",
              "      <td>2001.0</td>\n",
              "      <td>22.0</td>\n",
              "    </tr>\n",
              "  </tbody>\n",
              "</table>\n",
              "</div>"
            ],
            "text/plain": [
              "       AÑO DE NACIMIENTO  EDAD\n",
              "1137              1994.0  29.0\n",
              "9061              1979.0  44.0\n",
              "10311             1965.0  58.0\n",
              "3755              1978.0  45.0\n",
              "8184              1956.0  67.0\n",
              "10316             2014.0   9.0\n",
              "1268              1951.0  72.0\n",
              "2140              1993.0  30.0\n",
              "8510              1991.0  32.0\n",
              "2658              2001.0  22.0"
            ]
          },
          "execution_count": 114,
          "metadata": {},
          "output_type": "execute_result"
        }
      ],
      "source": [
        "homicides_df[[\"AÑO DE NACIMIENTO\", \"EDAD\"]].sample(10)"
      ]
    },
    {
      "cell_type": "code",
      "execution_count": null,
      "metadata": {
        "id": "-DHx0s2ThMxN"
      },
      "outputs": [],
      "source": [
        "uncommon_age = homicides_df.loc[(homicides_df[\"EDAD\"] > 100) | (homicides_df[\"EDAD\"] < 0)]"
      ]
    },
    {
      "cell_type": "code",
      "execution_count": null,
      "metadata": {
        "id": "zUX8iKvEhMxN",
        "outputId": "536fa8da-fe56-4288-9aa8-885df402abb8"
      },
      "outputs": [
        {
          "data": {
            "text/html": [
              "<div>\n",
              "<style scoped>\n",
              "    .dataframe tbody tr th:only-of-type {\n",
              "        vertical-align: middle;\n",
              "    }\n",
              "\n",
              "    .dataframe tbody tr th {\n",
              "        vertical-align: top;\n",
              "    }\n",
              "\n",
              "    .dataframe thead th {\n",
              "        text-align: right;\n",
              "    }\n",
              "</style>\n",
              "<table border=\"1\" class=\"dataframe\">\n",
              "  <thead>\n",
              "    <tr style=\"text-align: right;\">\n",
              "      <th></th>\n",
              "      <th>AÑO DE NACIMIENTO</th>\n",
              "      <th>EDAD</th>\n",
              "    </tr>\n",
              "  </thead>\n",
              "  <tbody>\n",
              "    <tr>\n",
              "      <th>56</th>\n",
              "      <td>75.0</td>\n",
              "      <td>1948.0</td>\n",
              "    </tr>\n",
              "    <tr>\n",
              "      <th>93</th>\n",
              "      <td>69.0</td>\n",
              "      <td>1954.0</td>\n",
              "    </tr>\n",
              "    <tr>\n",
              "      <th>104</th>\n",
              "      <td>66.0</td>\n",
              "      <td>1957.0</td>\n",
              "    </tr>\n",
              "    <tr>\n",
              "      <th>136</th>\n",
              "      <td>85.0</td>\n",
              "      <td>1938.0</td>\n",
              "    </tr>\n",
              "    <tr>\n",
              "      <th>178</th>\n",
              "      <td>97.0</td>\n",
              "      <td>1926.0</td>\n",
              "    </tr>\n",
              "    <tr>\n",
              "      <th>274</th>\n",
              "      <td>86.0</td>\n",
              "      <td>1937.0</td>\n",
              "    </tr>\n",
              "    <tr>\n",
              "      <th>298</th>\n",
              "      <td>75.0</td>\n",
              "      <td>1948.0</td>\n",
              "    </tr>\n",
              "    <tr>\n",
              "      <th>416</th>\n",
              "      <td>87.0</td>\n",
              "      <td>1936.0</td>\n",
              "    </tr>\n",
              "    <tr>\n",
              "      <th>442</th>\n",
              "      <td>78.0</td>\n",
              "      <td>1945.0</td>\n",
              "    </tr>\n",
              "    <tr>\n",
              "      <th>468</th>\n",
              "      <td>96.0</td>\n",
              "      <td>1927.0</td>\n",
              "    </tr>\n",
              "  </tbody>\n",
              "</table>\n",
              "</div>"
            ],
            "text/plain": [
              "     AÑO DE NACIMIENTO    EDAD\n",
              "56                75.0  1948.0\n",
              "93                69.0  1954.0\n",
              "104               66.0  1957.0\n",
              "136               85.0  1938.0\n",
              "178               97.0  1926.0\n",
              "274               86.0  1937.0\n",
              "298               75.0  1948.0\n",
              "416               87.0  1936.0\n",
              "442               78.0  1945.0\n",
              "468               96.0  1927.0"
            ]
          },
          "execution_count": 119,
          "metadata": {},
          "output_type": "execute_result"
        }
      ],
      "source": [
        "uncommon_age[[\"AÑO DE NACIMIENTO\",\"EDAD\"]].head(10)"
      ]
    },
    {
      "cell_type": "code",
      "execution_count": null,
      "metadata": {
        "id": "-LBH6dN5hMxO",
        "outputId": "eeac075b-ebbc-4493-89cb-bd2899ddf474"
      },
      "outputs": [
        {
          "data": {
            "text/plain": [
              "(223, 21)"
            ]
          },
          "execution_count": 120,
          "metadata": {},
          "output_type": "execute_result"
        }
      ],
      "source": [
        "uncommon_age.shape"
      ]
    },
    {
      "cell_type": "code",
      "execution_count": null,
      "metadata": {
        "id": "3FPlS0olhMxO",
        "outputId": "5ecbded4-c619-45ef-e9f8-f39f20dc4e55"
      },
      "outputs": [
        {
          "data": {
            "text/plain": [
              "(11559, 21)"
            ]
          },
          "execution_count": 121,
          "metadata": {},
          "output_type": "execute_result"
        }
      ],
      "source": [
        "homicides_df.shape"
      ]
    },
    {
      "cell_type": "markdown",
      "metadata": {
        "id": "0_yFprNThMxO"
      },
      "source": [
        "Según parece, existen registros en los cuales el año de nacimiento no fue registrado con los 4 digitos correspondientes sino solamente los dos últimos. De los 11559 registros restantes luego del procesamiento realizado en este notebook, eliminando por ejemplo los registros por cédula, se ve que estos registros con año irregular son apenas el 2% de la muestra."
      ]
    },
    {
      "cell_type": "markdown",
      "metadata": {
        "id": "tG9CaEXXhMxP"
      },
      "source": [
        "## 7. Conclusion\n",
        "\n",
        "<span style=\"color:red\">Make a summary of the different data quality problems found on the dataset, the data quality dimension that is related to and the implemented strategy for solving or mitigating that specific problem.</span>"
      ]
    },
    {
      "cell_type": "markdown",
      "metadata": {
        "id": "lkXlu8pHhMxP"
      },
      "source": [
        "| Atributo           | Dimensión de calidad no cumplida |Problema identificado                                                                                           |Acciones realizadas\n",
        "|--------------------|--------------------|------------------------------------------------------------------------------------------------|----|\n",
        "| Fecha              | Consistencia       | No todas las fechas seguían el formato que se supone deberían tener| Se identificaron los registros inconsistentes usando expresiones regulares, y se eliminaron.                                                                      |\n",
        "| Fecha              | Conformidad, Precisión | No contenia la hora, la hora estaba en otra columna| Se unió con la columna de hora, se eliminó la columna de hora                                                                           |\n",
        "| Departamento       | Consistencia       | Habían varios registros cuyos valores estaban por fuera del dominio valido| Se encontraron los valores no válidos y se reemplazaron por el correcto.                                                          |\n",
        "| Cédula             | Consistencia       | Registros duplicados| Se eliminaron los registros duplicados por cedula.                                   |\n",
        "| Cédula             | Conformidad        | Registros que no seguían el patrón establecido| Se modificaron los registros para que todos siguieran el patrón establecido usando expresiones regulares          |\n",
        "| Correo             | Conformidad        | Registros que no seguían el patrón establecido| Se identificaron los correos que no seguian el patrón establecido usando expresiones regulares                |\n",
        "| Día                | Consistencia       | Registros que no están en el dominio de datos establecido| Se usó el método SequenceMatcher para reemplazar los dias no validos con el dia que tuviera una mayor similitud        |\n",
        "| Año de nacimiento  | Temporalidad       | No corresponde al valor actual| Se calculó el valor actual usando la columna año de nacimiento.                                        |"
      ]
    },
    {
      "cell_type": "code",
      "execution_count": null,
      "metadata": {
        "id": "pDhJ54GghMxP"
      },
      "outputs": [],
      "source": []
    }
  ],
  "metadata": {
    "kernelspec": {
      "display_name": "Python 3 (ipykernel)",
      "language": "python",
      "name": "python3"
    },
    "language_info": {
      "codemirror_mode": {
        "name": "ipython",
        "version": 3
      },
      "file_extension": ".py",
      "mimetype": "text/x-python",
      "name": "python",
      "nbconvert_exporter": "python",
      "pygments_lexer": "ipython3",
      "version": "3.9.12"
    },
    "colab": {
      "provenance": []
    }
  },
  "nbformat": 4,
  "nbformat_minor": 0
}